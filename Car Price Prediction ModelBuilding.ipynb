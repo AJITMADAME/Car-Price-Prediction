{
 "cells": [
  {
   "cell_type": "code",
   "execution_count": 1,
   "id": "1b299477",
   "metadata": {},
   "outputs": [],
   "source": [
    "import pandas as pd\n",
    "import seaborn as sns\n",
    "import numpy as np\n",
    "import matplotlib.pyplot as plt\n",
    "%matplotlib inline\n",
    "import warnings\n",
    "warnings.filterwarnings('ignore')"
   ]
  },
  {
   "cell_type": "code",
   "execution_count": 2,
   "id": "6c9c69e4",
   "metadata": {},
   "outputs": [],
   "source": [
    "pd.set_option(\"display.max_columns\",None)\n",
    "pd.set_option(\"display.max_rows\",None)"
   ]
  },
  {
   "cell_type": "markdown",
   "id": "7aa0d3f9",
   "metadata": {},
   "source": [
    "### Importing Data"
   ]
  },
  {
   "cell_type": "code",
   "execution_count": 3,
   "id": "97c88c18",
   "metadata": {},
   "outputs": [],
   "source": [
    "data = pd.read_csv('cars24data.csv')"
   ]
  },
  {
   "cell_type": "code",
   "execution_count": 4,
   "id": "ad5296a7",
   "metadata": {},
   "outputs": [
    {
     "data": {
      "text/html": [
       "<div>\n",
       "<style scoped>\n",
       "    .dataframe tbody tr th:only-of-type {\n",
       "        vertical-align: middle;\n",
       "    }\n",
       "\n",
       "    .dataframe tbody tr th {\n",
       "        vertical-align: top;\n",
       "    }\n",
       "\n",
       "    .dataframe thead th {\n",
       "        text-align: right;\n",
       "    }\n",
       "</style>\n",
       "<table border=\"1\" class=\"dataframe\">\n",
       "  <thead>\n",
       "    <tr style=\"text-align: right;\">\n",
       "      <th></th>\n",
       "      <th>Unnamed: 0</th>\n",
       "      <th>name</th>\n",
       "      <th>selling_price</th>\n",
       "      <th>km_driven</th>\n",
       "      <th>fuel</th>\n",
       "      <th>transmission</th>\n",
       "      <th>owner</th>\n",
       "    </tr>\n",
       "  </thead>\n",
       "  <tbody>\n",
       "    <tr>\n",
       "      <th>0</th>\n",
       "      <td>0</td>\n",
       "      <td>2019 Maruti Swift</td>\n",
       "      <td>5,34,399</td>\n",
       "      <td>11,404</td>\n",
       "      <td>Petrol</td>\n",
       "      <td>Manual</td>\n",
       "      <td>2nd Owner</td>\n",
       "    </tr>\n",
       "    <tr>\n",
       "      <th>1</th>\n",
       "      <td>1</td>\n",
       "      <td>2018 Hyundai Grand i10</td>\n",
       "      <td>5,46,599</td>\n",
       "      <td>6,875</td>\n",
       "      <td>Petrol</td>\n",
       "      <td>Manual</td>\n",
       "      <td>2nd Owner</td>\n",
       "    </tr>\n",
       "    <tr>\n",
       "      <th>2</th>\n",
       "      <td>2</td>\n",
       "      <td>2021 Maruti Swift</td>\n",
       "      <td>5,55,899</td>\n",
       "      <td>13,174</td>\n",
       "      <td>Petrol</td>\n",
       "      <td>Manual</td>\n",
       "      <td>1st Owner</td>\n",
       "    </tr>\n",
       "    <tr>\n",
       "      <th>3</th>\n",
       "      <td>3</td>\n",
       "      <td>2020 Maruti Swift</td>\n",
       "      <td>5,57,199</td>\n",
       "      <td>16,633</td>\n",
       "      <td>Petrol</td>\n",
       "      <td>Manual</td>\n",
       "      <td>2nd Owner</td>\n",
       "    </tr>\n",
       "    <tr>\n",
       "      <th>4</th>\n",
       "      <td>4</td>\n",
       "      <td>2009 Hyundai i10</td>\n",
       "      <td>1,70,699</td>\n",
       "      <td>45,140</td>\n",
       "      <td>Petrol</td>\n",
       "      <td>Manual</td>\n",
       "      <td>1st Owner</td>\n",
       "    </tr>\n",
       "  </tbody>\n",
       "</table>\n",
       "</div>"
      ],
      "text/plain": [
       "   Unnamed: 0                    name selling_price km_driven    fuel  \\\n",
       "0           0       2019 Maruti Swift      5,34,399   11,404   Petrol   \n",
       "1           1  2018 Hyundai Grand i10      5,46,599    6,875   Petrol   \n",
       "2           2       2021 Maruti Swift      5,55,899   13,174   Petrol   \n",
       "3           3       2020 Maruti Swift      5,57,199   16,633   Petrol   \n",
       "4           4        2009 Hyundai i10      1,70,699   45,140   Petrol   \n",
       "\n",
       "  transmission      owner  \n",
       "0       Manual  2nd Owner  \n",
       "1       Manual  2nd Owner  \n",
       "2       Manual  1st Owner  \n",
       "3       Manual  2nd Owner  \n",
       "4       Manual  1st Owner  "
      ]
     },
     "execution_count": 4,
     "metadata": {},
     "output_type": "execute_result"
    }
   ],
   "source": [
    "data.head()"
   ]
  },
  {
   "cell_type": "code",
   "execution_count": 5,
   "id": "eb79077b",
   "metadata": {},
   "outputs": [
    {
     "data": {
      "text/plain": [
       "(952, 7)"
      ]
     },
     "execution_count": 5,
     "metadata": {},
     "output_type": "execute_result"
    }
   ],
   "source": [
    "data.shape"
   ]
  },
  {
   "cell_type": "markdown",
   "id": "155c698b",
   "metadata": {},
   "source": [
    "## Exploratory Data Analysis (EDA)"
   ]
  },
  {
   "cell_type": "markdown",
   "id": "c3ba54c7",
   "metadata": {},
   "source": [
    "### Checking the type of dataset"
   ]
  },
  {
   "cell_type": "code",
   "execution_count": 15,
   "id": "23def676",
   "metadata": {},
   "outputs": [
    {
     "data": {
      "text/plain": [
       "Unnamed: 0         int64\n",
       "name              object\n",
       "selling_price    float64\n",
       "km_driven          int32\n",
       "fuel              object\n",
       "transmission      object\n",
       "owner             object\n",
       "dtype: object"
      ]
     },
     "execution_count": 15,
     "metadata": {},
     "output_type": "execute_result"
    }
   ],
   "source": [
    "data.dtypes"
   ]
  },
  {
   "cell_type": "markdown",
   "id": "4c772a4e",
   "metadata": {},
   "source": [
    "- We can see, all features are having object data type"
   ]
  },
  {
   "cell_type": "code",
   "execution_count": 6,
   "id": "5354b2d6",
   "metadata": {},
   "outputs": [],
   "source": [
    "data['selling_price'] = data['selling_price'].str.replace(',','')"
   ]
  },
  {
   "cell_type": "code",
   "execution_count": 8,
   "id": "9d772f01",
   "metadata": {},
   "outputs": [],
   "source": [
    "data['selling_price'] = data['selling_price'].astype(float)"
   ]
  },
  {
   "cell_type": "code",
   "execution_count": 11,
   "id": "507bc985",
   "metadata": {},
   "outputs": [],
   "source": [
    "data['km_driven'] = data['km_driven'].str.replace(',','')\n",
    "data['km_driven'] = data['km_driven'].astype(int)"
   ]
  },
  {
   "cell_type": "markdown",
   "id": "6a9141b4",
   "metadata": {},
   "source": [
    "### Checking Unique values"
   ]
  },
  {
   "cell_type": "code",
   "execution_count": 16,
   "id": "795d0e18",
   "metadata": {},
   "outputs": [
    {
     "data": {
      "text/plain": [
       "Unnamed: 0       952\n",
       "name             319\n",
       "selling_price    657\n",
       "km_driven        947\n",
       "fuel               3\n",
       "transmission       2\n",
       "owner              3\n",
       "dtype: int64"
      ]
     },
     "execution_count": 16,
     "metadata": {},
     "output_type": "execute_result"
    }
   ],
   "source": [
    "data.nunique()"
   ]
  },
  {
   "cell_type": "markdown",
   "id": "588f1a6f",
   "metadata": {},
   "source": [
    "- We can see, columns are containing multiple unique values."
   ]
  },
  {
   "cell_type": "markdown",
   "id": "7f6f50f3",
   "metadata": {},
   "source": [
    "### Checking Null values"
   ]
  },
  {
   "cell_type": "code",
   "execution_count": 17,
   "id": "d0452d20",
   "metadata": {},
   "outputs": [
    {
     "data": {
      "text/plain": [
       "Unnamed: 0         0\n",
       "name               0\n",
       "selling_price    237\n",
       "km_driven          0\n",
       "fuel               0\n",
       "transmission      56\n",
       "owner              0\n",
       "dtype: int64"
      ]
     },
     "execution_count": 17,
     "metadata": {},
     "output_type": "execute_result"
    }
   ],
   "source": [
    "data.isnull().sum()"
   ]
  },
  {
   "cell_type": "code",
   "execution_count": 18,
   "id": "cad7a5b4",
   "metadata": {
    "scrolled": false
   },
   "outputs": [
    {
     "data": {
      "text/plain": [
       "<AxesSubplot:>"
      ]
     },
     "execution_count": 18,
     "metadata": {},
     "output_type": "execute_result"
    },
    {
     "data": {
      "image/png": "[encoded data removed]",
      "text/plain": [
       "<Figure size 500x300 with 2 Axes>"
      ]
     },
     "metadata": {},
     "output_type": "display_data"
    }
   ],
   "source": [
    "# visualising null values in dataset\n",
    "plt.figure(figsize=(5,3))\n",
    "sns.heatmap(data.isnull())"
   ]
  },
  {
   "cell_type": "markdown",
   "id": "724ac348",
   "metadata": {},
   "source": [
    "- We can see, selling_price and transmission are havinig some null values."
   ]
  },
  {
   "cell_type": "markdown",
   "id": "7f941934",
   "metadata": {},
   "source": [
    "### Filling Null Values"
   ]
  },
  {
   "cell_type": "code",
   "execution_count": 19,
   "id": "e008d64a",
   "metadata": {},
   "outputs": [],
   "source": [
    "data['selling_price']= data['selling_price'].fillna(data['selling_price'].median())"
   ]
  },
  {
   "cell_type": "code",
   "execution_count": 22,
   "id": "e41cc671",
   "metadata": {},
   "outputs": [],
   "source": [
    "data['transmission']= data['transmission'].fillna(data['transmission'].mode()[0])"
   ]
  },
  {
   "cell_type": "code",
   "execution_count": 23,
   "id": "912a90b0",
   "metadata": {},
   "outputs": [
    {
     "data": {
      "text/plain": [
       "Unnamed: 0       0\n",
       "name             0\n",
       "selling_price    0\n",
       "km_driven        0\n",
       "fuel             0\n",
       "transmission     0\n",
       "owner            0\n",
       "dtype: int64"
      ]
     },
     "execution_count": 23,
     "metadata": {},
     "output_type": "execute_result"
    }
   ],
   "source": [
    "data.isnull().sum()"
   ]
  },
  {
   "cell_type": "code",
   "execution_count": 25,
   "id": "3b3c33a9",
   "metadata": {},
   "outputs": [],
   "source": [
    "data.drop(columns=['Unnamed: 0'],inplace=True)"
   ]
  },
  {
   "cell_type": "markdown",
   "id": "dac6cf0b",
   "metadata": {},
   "source": [
    "## Dataset Description"
   ]
  },
  {
   "cell_type": "code",
   "execution_count": 27,
   "id": "6ba2d6a2",
   "metadata": {},
   "outputs": [
    {
     "data": {
      "text/html": [
       "<div>\n",
       "<style scoped>\n",
       "    .dataframe tbody tr th:only-of-type {\n",
       "        vertical-align: middle;\n",
       "    }\n",
       "\n",
       "    .dataframe tbody tr th {\n",
       "        vertical-align: top;\n",
       "    }\n",
       "\n",
       "    .dataframe thead th {\n",
       "        text-align: right;\n",
       "    }\n",
       "</style>\n",
       "<table border=\"1\" class=\"dataframe\">\n",
       "  <thead>\n",
       "    <tr style=\"text-align: right;\">\n",
       "      <th></th>\n",
       "      <th>selling_price</th>\n",
       "      <th>km_driven</th>\n",
       "    </tr>\n",
       "  </thead>\n",
       "  <tbody>\n",
       "    <tr>\n",
       "      <th>count</th>\n",
       "      <td>952.000000</td>\n",
       "      <td>952.000000</td>\n",
       "    </tr>\n",
       "    <tr>\n",
       "      <th>mean</th>\n",
       "      <td>496801.129202</td>\n",
       "      <td>37379.445378</td>\n",
       "    </tr>\n",
       "    <tr>\n",
       "      <th>std</th>\n",
       "      <td>127900.056347</td>\n",
       "      <td>24557.585568</td>\n",
       "    </tr>\n",
       "    <tr>\n",
       "      <th>min</th>\n",
       "      <td>139099.000000</td>\n",
       "      <td>1122.000000</td>\n",
       "    </tr>\n",
       "    <tr>\n",
       "      <th>25%</th>\n",
       "      <td>422074.000000</td>\n",
       "      <td>16614.250000</td>\n",
       "    </tr>\n",
       "    <tr>\n",
       "      <th>50%</th>\n",
       "      <td>498299.000000</td>\n",
       "      <td>32272.500000</td>\n",
       "    </tr>\n",
       "    <tr>\n",
       "      <th>75%</th>\n",
       "      <td>568599.000000</td>\n",
       "      <td>54477.000000</td>\n",
       "    </tr>\n",
       "    <tr>\n",
       "      <th>max</th>\n",
       "      <td>799699.000000</td>\n",
       "      <td>159926.000000</td>\n",
       "    </tr>\n",
       "  </tbody>\n",
       "</table>\n",
       "</div>"
      ],
      "text/plain": [
       "       selling_price      km_driven\n",
       "count     952.000000     952.000000\n",
       "mean   496801.129202   37379.445378\n",
       "std    127900.056347   24557.585568\n",
       "min    139099.000000    1122.000000\n",
       "25%    422074.000000   16614.250000\n",
       "50%    498299.000000   32272.500000\n",
       "75%    568599.000000   54477.000000\n",
       "max    799699.000000  159926.000000"
      ]
     },
     "execution_count": 27,
     "metadata": {},
     "output_type": "execute_result"
    }
   ],
   "source": [
    "data.describe()"
   ]
  },
  {
   "cell_type": "markdown",
   "id": "f3eed8c5",
   "metadata": {},
   "source": [
    "- Big difference between max value and 75% in km_driven indicates presence of outliers."
   ]
  },
  {
   "cell_type": "markdown",
   "id": "eff43c6c",
   "metadata": {},
   "source": [
    "## Univariate Analysis"
   ]
  },
  {
   "cell_type": "code",
   "execution_count": 32,
   "id": "83ea952a",
   "metadata": {},
   "outputs": [
    {
     "data": {
      "image/png": "[encoded data removed]",
      "text/plain": [
       "<Figure size 700x300 with 1 Axes>"
      ]
     },
     "metadata": {},
     "output_type": "display_data"
    }
   ],
   "source": [
    "plt.figure(figsize=(7,3))\n",
    "sns.distplot(data[\"selling_price\"],color=\"b\",kde_kws={\"shade\": True},)\n",
    "plt.show()"
   ]
  },
  {
   "cell_type": "markdown",
   "id": "8c65a052",
   "metadata": {},
   "source": [
    "- We can see selling price is look like that data has normaly distributed.\n",
    "- We can see, maximum selling price lies in the range of 4 to 6 Lakh."
   ]
  },
  {
   "cell_type": "code",
   "execution_count": 33,
   "id": "b0461b60",
   "metadata": {},
   "outputs": [
    {
     "data": {
      "image/png": "[encoded data removed]",
      "text/plain": [
       "<Figure size 700x300 with 1 Axes>"
      ]
     },
     "metadata": {},
     "output_type": "display_data"
    }
   ],
   "source": [
    "plt.figure(figsize=(7,3))\n",
    "sns.distplot(data[\"km_driven\"],color=\"b\",kde_kws={\"shade\": True},)\n",
    "plt.show()"
   ]
  },
  {
   "cell_type": "markdown",
   "id": "2e46a72a",
   "metadata": {},
   "source": [
    "- We can see, km driven has not a normally distributed but maximum data lies in the range of 0 to 100000 km."
   ]
  },
  {
   "cell_type": "code",
   "execution_count": 35,
   "id": "053165ad",
   "metadata": {},
   "outputs": [
    {
     "data": {
      "image/png": "[encoded data removed]",
      "text/plain": [
       "<Figure size 300x300 with 1 Axes>"
      ]
     },
     "metadata": {},
     "output_type": "display_data"
    }
   ],
   "source": [
    "plt.figure(figsize=(3,3))\n",
    "sns.countplot(x='fuel',data=data)\n",
    "plt.show()"
   ]
  },
  {
   "cell_type": "markdown",
   "id": "3192295c",
   "metadata": {},
   "source": [
    "- We can see, Fuel as petrol has maximum count followed by Diesel.\n",
    "- Petrol + CNG has lowest count than others.\n",
    "- It means that maximum people are used petrol vehicle than others. But petrol vehicle are more expensive than others."
   ]
  },
  {
   "cell_type": "code",
   "execution_count": 40,
   "id": "08556e13",
   "metadata": {},
   "outputs": [
    {
     "data": {
      "image/png": "[encoded data removed]",
      "text/plain": [
       "<Figure size 300x300 with 1 Axes>"
      ]
     },
     "metadata": {},
     "output_type": "display_data"
    }
   ],
   "source": [
    "plt.figure(figsize=(3,3))\n",
    "sns.countplot(x='owner',data=data)\n",
    "plt.show()"
   ]
  },
  {
   "cell_type": "markdown",
   "id": "e9bba59c",
   "metadata": {},
   "source": [
    "- We can see, Ist Owner owned vehicle are highest for selling followed by 2nd Owner.\n",
    "- It simple because 1st owner vehicle are having more selling than others."
   ]
  },
  {
   "cell_type": "markdown",
   "id": "d1f957c3",
   "metadata": {},
   "source": [
    "## Bivariate Analysis"
   ]
  },
  {
   "cell_type": "code",
   "execution_count": 41,
   "id": "c050b6b4",
   "metadata": {},
   "outputs": [
    {
     "data": {
      "image/png": "[encoded data removed]",
      "text/plain": [
       "<Figure size 400x400 with 1 Axes>"
      ]
     },
     "metadata": {},
     "output_type": "display_data"
    }
   ],
   "source": [
    "plt.figure(figsize=(4,4))\n",
    "sns.scatterplot(x='selling_price',y='km_driven',data=data)\n",
    "plt.show()"
   ]
  },
  {
   "cell_type": "markdown",
   "id": "31ba9643",
   "metadata": {},
   "source": [
    "- We can see, there are no direct relationship of both feature to each others.\n",
    "- But the vehicle km_driven are in 0 to 80000km those are having good price. And we can see maximum vehicle km_driven lies in this range."
   ]
  },
  {
   "cell_type": "code",
   "execution_count": 42,
   "id": "ccaef355",
   "metadata": {},
   "outputs": [
    {
     "data": {
      "image/png": "[encoded data removed]",
      "text/plain": [
       "<Figure size 300x300 with 1 Axes>"
      ]
     },
     "metadata": {},
     "output_type": "display_data"
    }
   ],
   "source": [
    "plt.figure(figsize=(3,3))\n",
    "sns.barplot(x='fuel',y='selling_price',data=data)\n",
    "plt.show()"
   ]
  },
  {
   "cell_type": "markdown",
   "id": "eb8737b1",
   "metadata": {},
   "source": [
    "- We can see, Diesel vehicles are having maximum selling price than others.\n",
    "- Whereas petrol vehicles are having lowest selling price than others. But all are having very little difference in their selling price."
   ]
  },
  {
   "cell_type": "code",
   "execution_count": 43,
   "id": "481630f6",
   "metadata": {},
   "outputs": [
    {
     "data": {
      "image/png": "[encoded data removed]",
      "text/plain": [
       "<Figure size 300x300 with 1 Axes>"
      ]
     },
     "metadata": {},
     "output_type": "display_data"
    }
   ],
   "source": [
    "plt.figure(figsize=(3,3))\n",
    "sns.barplot(x='fuel',y='km_driven',data=data)\n",
    "plt.show()"
   ]
  },
  {
   "cell_type": "markdown",
   "id": "b981e767",
   "metadata": {},
   "source": [
    "- We can see, Diesel cars are having maximum km_driven. It means that, diesel cars runing km is high they used more.\n",
    "- Petrol cars are having lowest km_driven.\n",
    "- But here is little contrast that, generaly those cars driven less km they are having high price but here is opposite."
   ]
  },
  {
   "cell_type": "code",
   "execution_count": 45,
   "id": "29183729",
   "metadata": {},
   "outputs": [
    {
     "data": {
      "image/png": "[encoded data removed]",
      "text/plain": [
       "<Figure size 300x300 with 1 Axes>"
      ]
     },
     "metadata": {},
     "output_type": "display_data"
    }
   ],
   "source": [
    "plt.figure(figsize=(3,3))\n",
    "sns.barplot(x='transmission',y='km_driven',data=data,)\n",
    "plt.show()"
   ]
  },
  {
   "cell_type": "markdown",
   "id": "c35d8771",
   "metadata": {},
   "source": [
    "- We can see, manual and automatic both type of transmission are having almost same km_driven.\n",
    "- But Automatic transmission little lower than Manual transmission cars."
   ]
  },
  {
   "cell_type": "code",
   "execution_count": 46,
   "id": "25d3b8d8",
   "metadata": {},
   "outputs": [
    {
     "data": {
      "image/png": "[encoded data removed]",
      "text/plain": [
       "<Figure size 300x300 with 1 Axes>"
      ]
     },
     "metadata": {},
     "output_type": "display_data"
    }
   ],
   "source": [
    "plt.figure(figsize=(3,3))\n",
    "sns.barplot(x='transmission',y='selling_price',data=data)\n",
    "plt.show()"
   ]
  },
  {
   "cell_type": "markdown",
   "id": "2cf6f1ca",
   "metadata": {},
   "source": [
    "- We can see, Automatic transmission cars are having higher selling price than Manual transmission cars.\n",
    "- But there is no major difference in selling price of both transmission cars. We can see, up to the range 0 to 450000 both are having same price. "
   ]
  },
  {
   "cell_type": "code",
   "execution_count": 47,
   "id": "8c8de09c",
   "metadata": {},
   "outputs": [
    {
     "data": {
      "image/png": "[encoded data removed]",
      "text/plain": [
       "<Figure size 300x300 with 1 Axes>"
      ]
     },
     "metadata": {},
     "output_type": "display_data"
    }
   ],
   "source": [
    "plt.figure(figsize=(3,3))\n",
    "sns.barplot(x='transmission',y='km_driven',data=data)\n",
    "plt.show()"
   ]
  },
  {
   "cell_type": "markdown",
   "id": "a758be64",
   "metadata": {},
   "source": [
    "- We can see, both transmisson are having almost same km driven."
   ]
  },
  {
   "cell_type": "code",
   "execution_count": 48,
   "id": "e1c1cc03",
   "metadata": {},
   "outputs": [
    {
     "data": {
      "image/png": "[encoded data removed]",
      "text/plain": [
       "<Figure size 300x300 with 1 Axes>"
      ]
     },
     "metadata": {},
     "output_type": "display_data"
    }
   ],
   "source": [
    "plt.figure(figsize=(3,3))\n",
    "sns.barplot(x='owner',y='km_driven',data=data,palette='winter')\n",
    "plt.show()"
   ]
  },
  {
   "cell_type": "markdown",
   "id": "5d974a3a",
   "metadata": {},
   "source": [
    "- We can see, 3rd owner cars are having maximum km_driven. It obviously because these are cars owned by multiple owner and they drive these cars more.\n",
    "- 1st owner cars are having less km driven."
   ]
  },
  {
   "cell_type": "code",
   "execution_count": 49,
   "id": "21469230",
   "metadata": {},
   "outputs": [
    {
     "data": {
      "image/png": "[encoded data removed]",
      "text/plain": [
       "<Figure size 300x300 with 1 Axes>"
      ]
     },
     "metadata": {},
     "output_type": "display_data"
    }
   ],
   "source": [
    "plt.figure(figsize=(3,3))\n",
    "sns.barplot(x='owner',y='selling_price',data=data,palette='rocket')\n",
    "plt.show()"
   ]
  },
  {
   "cell_type": "markdown",
   "id": "d2850289",
   "metadata": {},
   "source": [
    "- We can see, 1st owner cars are having maximum selling price tna others.\n",
    "- But all are having almost same range of selling price."
   ]
  },
  {
   "cell_type": "markdown",
   "id": "15661b0c",
   "metadata": {},
   "source": [
    "## Multivariate Analysis"
   ]
  },
  {
   "cell_type": "code",
   "execution_count": 50,
   "id": "68a9a741",
   "metadata": {},
   "outputs": [
    {
     "data": {
      "text/html": [
       "<div>\n",
       "<style scoped>\n",
       "    .dataframe tbody tr th:only-of-type {\n",
       "        vertical-align: middle;\n",
       "    }\n",
       "\n",
       "    .dataframe tbody tr th {\n",
       "        vertical-align: top;\n",
       "    }\n",
       "\n",
       "    .dataframe thead th {\n",
       "        text-align: right;\n",
       "    }\n",
       "</style>\n",
       "<table border=\"1\" class=\"dataframe\">\n",
       "  <thead>\n",
       "    <tr style=\"text-align: right;\">\n",
       "      <th></th>\n",
       "      <th>name</th>\n",
       "      <th>selling_price</th>\n",
       "      <th>km_driven</th>\n",
       "      <th>fuel</th>\n",
       "      <th>transmission</th>\n",
       "      <th>owner</th>\n",
       "    </tr>\n",
       "  </thead>\n",
       "  <tbody>\n",
       "    <tr>\n",
       "      <th>0</th>\n",
       "      <td>2019 Maruti Swift</td>\n",
       "      <td>534399.0</td>\n",
       "      <td>11404</td>\n",
       "      <td>Petrol</td>\n",
       "      <td>Manual</td>\n",
       "      <td>2nd Owner</td>\n",
       "    </tr>\n",
       "    <tr>\n",
       "      <th>1</th>\n",
       "      <td>2018 Hyundai Grand i10</td>\n",
       "      <td>546599.0</td>\n",
       "      <td>6875</td>\n",
       "      <td>Petrol</td>\n",
       "      <td>Manual</td>\n",
       "      <td>2nd Owner</td>\n",
       "    </tr>\n",
       "    <tr>\n",
       "      <th>2</th>\n",
       "      <td>2021 Maruti Swift</td>\n",
       "      <td>555899.0</td>\n",
       "      <td>13174</td>\n",
       "      <td>Petrol</td>\n",
       "      <td>Manual</td>\n",
       "      <td>1st Owner</td>\n",
       "    </tr>\n",
       "    <tr>\n",
       "      <th>3</th>\n",
       "      <td>2020 Maruti Swift</td>\n",
       "      <td>557199.0</td>\n",
       "      <td>16633</td>\n",
       "      <td>Petrol</td>\n",
       "      <td>Manual</td>\n",
       "      <td>2nd Owner</td>\n",
       "    </tr>\n",
       "    <tr>\n",
       "      <th>4</th>\n",
       "      <td>2009 Hyundai i10</td>\n",
       "      <td>170699.0</td>\n",
       "      <td>45140</td>\n",
       "      <td>Petrol</td>\n",
       "      <td>Manual</td>\n",
       "      <td>1st Owner</td>\n",
       "    </tr>\n",
       "  </tbody>\n",
       "</table>\n",
       "</div>"
      ],
      "text/plain": [
       "                     name  selling_price  km_driven    fuel transmission  \\\n",
       "0       2019 Maruti Swift       534399.0      11404  Petrol       Manual   \n",
       "1  2018 Hyundai Grand i10       546599.0       6875  Petrol       Manual   \n",
       "2       2021 Maruti Swift       555899.0      13174  Petrol       Manual   \n",
       "3       2020 Maruti Swift       557199.0      16633  Petrol       Manual   \n",
       "4        2009 Hyundai i10       170699.0      45140  Petrol       Manual   \n",
       "\n",
       "       owner  \n",
       "0  2nd Owner  \n",
       "1  2nd Owner  \n",
       "2  1st Owner  \n",
       "3  2nd Owner  \n",
       "4  1st Owner  "
      ]
     },
     "execution_count": 50,
     "metadata": {},
     "output_type": "execute_result"
    }
   ],
   "source": [
    "data.head()"
   ]
  },
  {
   "cell_type": "code",
   "execution_count": 55,
   "id": "71302d46",
   "metadata": {},
   "outputs": [
    {
     "data": {
      "image/png": "[encoded data removed]",
      "text/plain": [
       "<Figure size 500x300 with 1 Axes>"
      ]
     },
     "metadata": {},
     "output_type": "display_data"
    }
   ],
   "source": [
    "plt.figure(figsize=(5,3))\n",
    "sns.barplot(x='fuel' ,y='selling_price',hue = 'owner',data=data)\n",
    "plt.show()"
   ]
  },
  {
   "cell_type": "markdown",
   "id": "af0b129e",
   "metadata": {},
   "source": [
    "- We can see,In all variants of fuel, 1st owner are having maximum cars selling price than others owner.\n",
    "- But in Petrol fuel variant, all owner are having almost same selling price there is no major difference in selling price."
   ]
  },
  {
   "cell_type": "code",
   "execution_count": 57,
   "id": "4656a075",
   "metadata": {},
   "outputs": [
    {
     "data": {
      "image/png": "[encoded data removed]",
      "text/plain": [
       "<Figure size 500x300 with 1 Axes>"
      ]
     },
     "metadata": {},
     "output_type": "display_data"
    }
   ],
   "source": [
    "plt.figure(figsize=(5,3))\n",
    "sns.barplot(x='fuel' ,y='km_driven',hue = 'owner',data=data)\n",
    "plt.show()"
   ]
  },
  {
   "cell_type": "markdown",
   "id": "9f55cba1",
   "metadata": {},
   "source": [
    "- 2nd owner is top in petrol + CNG and diesel variants of car. It mean in this two variant of fuel in which 2 nd owner are drive a cars maximum km than others.\n",
    "- But in Ptrol fuel cars, in which 3rd owner cars are having maximum km driven."
   ]
  },
  {
   "cell_type": "code",
   "execution_count": 58,
   "id": "f57914da",
   "metadata": {},
   "outputs": [
    {
     "data": {
      "image/png": "[encoded data removed]",
      "text/plain": [
       "<Figure size 500x300 with 1 Axes>"
      ]
     },
     "metadata": {},
     "output_type": "display_data"
    }
   ],
   "source": [
    "plt.figure(figsize=(5,3))\n",
    "sns.barplot(x='fuel' ,y='km_driven',hue = 'transmission',data=data, palette='magma')\n",
    "plt.show()"
   ]
  },
  {
   "cell_type": "markdown",
   "id": "00fee655",
   "metadata": {},
   "source": [
    "- We can see,In all fuel type, Manual transmission cars are having maximum km_driven.\n",
    "- But in Petrol+CNG variants cars, there is Atomatic transmission cars."
   ]
  },
  {
   "cell_type": "code",
   "execution_count": 59,
   "id": "4435094d",
   "metadata": {},
   "outputs": [
    {
     "data": {
      "image/png": "[encoded data removed]",
      "text/plain": [
       "<Figure size 500x300 with 1 Axes>"
      ]
     },
     "metadata": {},
     "output_type": "display_data"
    }
   ],
   "source": [
    "plt.figure(figsize=(5,3))\n",
    "sns.barplot(x='fuel' ,y='selling_price',hue = 'transmission',data=data, palette='hsv')\n",
    "plt.show()"
   ]
  },
  {
   "cell_type": "markdown",
   "id": "23b70485",
   "metadata": {},
   "source": [
    "- We can see, In Petrol fuel type, In which automatic transmission cars are having maximum selling price than others.\n",
    "- But petrol+CNG fuel type ,there is no automatic transmission cars."
   ]
  },
  {
   "cell_type": "markdown",
   "id": "20b9a382",
   "metadata": {},
   "source": [
    "## Encoding Categorical Columns"
   ]
  },
  {
   "cell_type": "code",
   "execution_count": 60,
   "id": "731e2db9",
   "metadata": {},
   "outputs": [
    {
     "name": "stdout",
     "output_type": "stream",
     "text": [
      "<class 'pandas.core.frame.DataFrame'>\n",
      "RangeIndex: 952 entries, 0 to 951\n",
      "Data columns (total 6 columns):\n",
      " #   Column         Non-Null Count  Dtype  \n",
      "---  ------         --------------  -----  \n",
      " 0   name           952 non-null    object \n",
      " 1   selling_price  952 non-null    float64\n",
      " 2   km_driven      952 non-null    int32  \n",
      " 3   fuel           952 non-null    object \n",
      " 4   transmission   952 non-null    object \n",
      " 5   owner          952 non-null    object \n",
      "dtypes: float64(1), int32(1), object(4)\n",
      "memory usage: 41.0+ KB\n"
     ]
    }
   ],
   "source": [
    "data.info()"
   ]
  },
  {
   "cell_type": "code",
   "execution_count": 61,
   "id": "bf878b27",
   "metadata": {},
   "outputs": [],
   "source": [
    "from sklearn.preprocessing import LabelEncoder"
   ]
  },
  {
   "cell_type": "code",
   "execution_count": 62,
   "id": "25a0d531",
   "metadata": {},
   "outputs": [],
   "source": [
    "le=LabelEncoder()"
   ]
  },
  {
   "cell_type": "code",
   "execution_count": 63,
   "id": "4a7cd827",
   "metadata": {},
   "outputs": [],
   "source": [
    "for col in data[data.columns[data.dtypes == 'object']]:\n",
    "    data[col] = le.fit_transform(data[col])"
   ]
  },
  {
   "cell_type": "markdown",
   "id": "7fa88532",
   "metadata": {},
   "source": [
    "## Correlation of the features with target column"
   ]
  },
  {
   "cell_type": "code",
   "execution_count": 64,
   "id": "3d2e76d0",
   "metadata": {},
   "outputs": [
    {
     "data": {
      "text/plain": [
       "km_driven       -0.156053\n",
       "transmission    -0.122763\n",
       "fuel            -0.079354\n",
       "owner           -0.030828\n",
       "name             0.440415\n",
       "selling_price    1.000000\n",
       "Name: selling_price, dtype: float64"
      ]
     },
     "execution_count": 64,
     "metadata": {},
     "output_type": "execute_result"
    }
   ],
   "source": [
    "data.corr()['selling_price'].sort_values()"
   ]
  },
  {
   "cell_type": "code",
   "execution_count": 69,
   "id": "03923eee",
   "metadata": {},
   "outputs": [
    {
     "data": {
      "image/png": "[encoded data removed]",
      "text/plain": [
       "<Figure size 700x300 with 2 Axes>"
      ]
     },
     "metadata": {},
     "output_type": "display_data"
    }
   ],
   "source": [
    "plt.figure(figsize=(7,3))\n",
    "sns.heatmap(data.corr(), annot=True, fmt ='.2f')\n",
    "plt.show()"
   ]
  },
  {
   "cell_type": "markdown",
   "id": "452224d4",
   "metadata": {},
   "source": [
    "### Outcome of Correlation\n",
    "\n",
    "- name has 44% positive correlation with target column.\n",
    "- km_driven has 16% negative correlation with target column.\n",
    "- fuel has 8% negative correlation with target column.\n",
    "- transmission has 12% negative correlation with target column.\n",
    "- owner has 3% negative correlation with target columns.\n"
   ]
  },
  {
   "cell_type": "markdown",
   "id": "31840856",
   "metadata": {},
   "source": [
    "## Visualizing correlation of feature columns with label column."
   ]
  },
  {
   "cell_type": "code",
   "execution_count": 72,
   "id": "3b1acc8a",
   "metadata": {},
   "outputs": [
    {
     "data": {
      "image/png": "[encoded data removed]",
      "text/plain": [
       "<Figure size 700x300 with 1 Axes>"
      ]
     },
     "metadata": {},
     "output_type": "display_data"
    }
   ],
   "source": [
    "plt.figure(figsize = (7,3))\n",
    "data.corr()['selling_price'].sort_values(ascending = False).drop(['selling_price']).plot(kind='bar',color = 'c')\n",
    "plt.xlabel('Features',fontsize=12)\n",
    "plt.ylabel('selling',fontsize=12)\n",
    "plt.title('correlation',fontsize = 12)\n",
    "plt.show()"
   ]
  },
  {
   "cell_type": "markdown",
   "id": "cd3d444c",
   "metadata": {},
   "source": [
    "- Name have the strongest positive correlation with Selling Price.\n",
    "- While km_dricven, transmission, fuel have the strongest negative correlation with Selling Price."
   ]
  },
  {
   "cell_type": "markdown",
   "id": "b6e1e63c",
   "metadata": {},
   "source": [
    "## Checking Outliers"
   ]
  },
  {
   "cell_type": "code",
   "execution_count": 86,
   "id": "a2bdd90d",
   "metadata": {},
   "outputs": [
    {
     "data": {
      "image/png": "[encoded data removed]",
      "text/plain": [
       "<Figure size 1500x700 with 6 Axes>"
      ]
     },
     "metadata": {},
     "output_type": "display_data"
    }
   ],
   "source": [
    "plt.figure(figsize=(15,7))\n",
    "plotnumber = 1\n",
    "\n",
    "for column in data:\n",
    "    if plotnumber <=6:\n",
    "        plt.subplot(2,3,plotnumber)\n",
    "        ax = sns.boxplot(data=data[column])\n",
    "        plt.xlabel(column, fontsize=12)\n",
    "    plotnumber +=1\n",
    "plt.show()"
   ]
  },
  {
   "cell_type": "markdown",
   "id": "a135a2b2",
   "metadata": {},
   "source": [
    "- We can see, selling price and km_driven are having some outliers."
   ]
  },
  {
   "cell_type": "markdown",
   "id": "3124c595",
   "metadata": {},
   "source": [
    "### Removing Outliers"
   ]
  },
  {
   "cell_type": "code",
   "execution_count": 87,
   "id": "fac40a8d",
   "metadata": {},
   "outputs": [],
   "source": [
    "from scipy.stats import zscore\n",
    "\n",
    "z_score = zscore(data[['km_driven']])\n",
    "abs_z_score = np.abs(z_score)    # Apply the formula and get the scaled data\n",
    "\n",
    "filtering_entry = (abs_z_score  < 3).all(axis=1)\n",
    "\n",
    "df = data[filtering_entry]"
   ]
  },
  {
   "cell_type": "code",
   "execution_count": 88,
   "id": "6684d566",
   "metadata": {},
   "outputs": [
    {
     "data": {
      "text/plain": [
       "(951, 6)"
      ]
     },
     "execution_count": 88,
     "metadata": {},
     "output_type": "execute_result"
    }
   ],
   "source": [
    "df.shape"
   ]
  },
  {
   "cell_type": "code",
   "execution_count": 89,
   "id": "6db31150",
   "metadata": {},
   "outputs": [
    {
     "data": {
      "text/plain": [
       "(952, 6)"
      ]
     },
     "execution_count": 89,
     "metadata": {},
     "output_type": "execute_result"
    }
   ],
   "source": [
    "data.shape"
   ]
  },
  {
   "cell_type": "markdown",
   "id": "4187fa6a",
   "metadata": {},
   "source": [
    "### Percentage of data loss"
   ]
  },
  {
   "cell_type": "code",
   "execution_count": 90,
   "id": "dff08b96",
   "metadata": {},
   "outputs": [
    {
     "name": "stdout",
     "output_type": "stream",
     "text": [
      "0.10504201680672269 %\n"
     ]
    }
   ],
   "source": [
    "data_loss = ((952 - 951)/952*100)\n",
    "print(data_loss,'%')"
   ]
  },
  {
   "cell_type": "markdown",
   "id": "481f4889",
   "metadata": {},
   "source": [
    "## Checking Multicollinearity"
   ]
  },
  {
   "cell_type": "code",
   "execution_count": 91,
   "id": "cb744758",
   "metadata": {},
   "outputs": [],
   "source": [
    "x = df.drop(columns=['selling_price'],axis=1)\n",
    "y = df['selling_price']"
   ]
  },
  {
   "cell_type": "code",
   "execution_count": 92,
   "id": "42d764de",
   "metadata": {},
   "outputs": [],
   "source": [
    "from sklearn.preprocessing import StandardScaler"
   ]
  },
  {
   "cell_type": "code",
   "execution_count": 93,
   "id": "a41c188a",
   "metadata": {},
   "outputs": [],
   "source": [
    "scaler= StandardScaler()\n",
    "scaled_X = scaler.fit_transform(x)"
   ]
  },
  {
   "cell_type": "code",
   "execution_count": 94,
   "id": "58341df3",
   "metadata": {},
   "outputs": [],
   "source": [
    "from statsmodels.stats.outliers_influence import variance_inflation_factor"
   ]
  },
  {
   "cell_type": "code",
   "execution_count": 95,
   "id": "f73ad54b",
   "metadata": {},
   "outputs": [],
   "source": [
    "vif = pd.DataFrame()"
   ]
  },
  {
   "cell_type": "code",
   "execution_count": 96,
   "id": "db5db72d",
   "metadata": {},
   "outputs": [
    {
     "data": {
      "text/html": [
       "<div>\n",
       "<style scoped>\n",
       "    .dataframe tbody tr th:only-of-type {\n",
       "        vertical-align: middle;\n",
       "    }\n",
       "\n",
       "    .dataframe tbody tr th {\n",
       "        vertical-align: top;\n",
       "    }\n",
       "\n",
       "    .dataframe thead th {\n",
       "        text-align: right;\n",
       "    }\n",
       "</style>\n",
       "<table border=\"1\" class=\"dataframe\">\n",
       "  <thead>\n",
       "    <tr style=\"text-align: right;\">\n",
       "      <th></th>\n",
       "      <th>Features</th>\n",
       "      <th>vif</th>\n",
       "    </tr>\n",
       "  </thead>\n",
       "  <tbody>\n",
       "    <tr>\n",
       "      <th>0</th>\n",
       "      <td>name</td>\n",
       "      <td>1.564957</td>\n",
       "    </tr>\n",
       "    <tr>\n",
       "      <th>1</th>\n",
       "      <td>km_driven</td>\n",
       "      <td>1.546311</td>\n",
       "    </tr>\n",
       "    <tr>\n",
       "      <th>2</th>\n",
       "      <td>fuel</td>\n",
       "      <td>1.037484</td>\n",
       "    </tr>\n",
       "    <tr>\n",
       "      <th>3</th>\n",
       "      <td>transmission</td>\n",
       "      <td>1.026349</td>\n",
       "    </tr>\n",
       "    <tr>\n",
       "      <th>4</th>\n",
       "      <td>owner</td>\n",
       "      <td>1.039353</td>\n",
       "    </tr>\n",
       "  </tbody>\n",
       "</table>\n",
       "</div>"
      ],
      "text/plain": [
       "       Features       vif\n",
       "0          name  1.564957\n",
       "1     km_driven  1.546311\n",
       "2          fuel  1.037484\n",
       "3  transmission  1.026349\n",
       "4         owner  1.039353"
      ]
     },
     "execution_count": 96,
     "metadata": {},
     "output_type": "execute_result"
    }
   ],
   "source": [
    "vif[\"Features\"] = x.columns\n",
    "vif['vif'] = [variance_inflation_factor(scaled_X,i) for i in range(scaled_X.shape[1])]\n",
    "vif"
   ]
  },
  {
   "cell_type": "markdown",
   "id": "12363a69",
   "metadata": {},
   "source": [
    "- If VIF > 5, It means multicollinearity is present.\n",
    "- We can see, there is no MultiCollinearity exists in datasets Based on ANOVA F scores."
   ]
  },
  {
   "cell_type": "markdown",
   "id": "5bb8b0f8",
   "metadata": {},
   "source": [
    "### Data Before removing Skewness"
   ]
  },
  {
   "cell_type": "code",
   "execution_count": 97,
   "id": "bd4f4a20",
   "metadata": {},
   "outputs": [
    {
     "data": {
      "text/plain": [
       "name            -0.085641\n",
       "selling_price   -0.053525\n",
       "km_driven        0.707406\n",
       "fuel            -0.426149\n",
       "transmission    -1.850540\n",
       "owner            1.805936\n",
       "dtype: float64"
      ]
     },
     "execution_count": 97,
     "metadata": {},
     "output_type": "execute_result"
    }
   ],
   "source": [
    "data.skew()"
   ]
  },
  {
   "cell_type": "markdown",
   "id": "6fc1653e",
   "metadata": {},
   "source": [
    "- Outcome of the skewness: Skewness threshold is taken is +/-0.65\n",
    "- Km_driven is having some skewness.\n",
    "- transmission and owner are having some skewness but tese are a categorical data."
   ]
  },
  {
   "cell_type": "markdown",
   "id": "162443da",
   "metadata": {},
   "source": [
    "### Data After Removing Skewness"
   ]
  },
  {
   "cell_type": "code",
   "execution_count": 98,
   "id": "ab6445c5",
   "metadata": {},
   "outputs": [],
   "source": [
    "from sklearn.preprocessing import power_transform\n",
    "x = power_transform(x,method='yeo-johnson')"
   ]
  },
  {
   "cell_type": "code",
   "execution_count": 99,
   "id": "f0424e0d",
   "metadata": {},
   "outputs": [],
   "source": [
    "trans = pd.DataFrame(x)"
   ]
  },
  {
   "cell_type": "code",
   "execution_count": 100,
   "id": "01565221",
   "metadata": {},
   "outputs": [
    {
     "data": {
      "text/plain": [
       "0   -0.236686\n",
       "1   -0.092230\n",
       "2    0.181257\n",
       "3   -1.848836\n",
       "4    1.520607\n",
       "dtype: float64"
      ]
     },
     "execution_count": 100,
     "metadata": {},
     "output_type": "execute_result"
    }
   ],
   "source": [
    "trans.skew()"
   ]
  },
  {
   "cell_type": "code",
   "execution_count": 101,
   "id": "5c6d9741",
   "metadata": {},
   "outputs": [],
   "source": [
    "x = scaler.fit_transform(x)"
   ]
  },
  {
   "cell_type": "code",
   "execution_count": 102,
   "id": "1e533c97",
   "metadata": {},
   "outputs": [
    {
     "data": {
      "text/plain": [
       "array([[ 0.50594676, -1.15194174,  0.1479896 ,  0.43786907,  2.01355911],\n",
       "       [-0.20000035, -1.55568269,  0.1479896 ,  0.43786907,  2.01355911],\n",
       "       [ 1.37238915, -1.02033138,  0.1479896 ,  0.43786907, -0.49638172],\n",
       "       ...,\n",
       "       [-1.22147068,  1.46158147, -1.95127054,  0.43786907, -0.49638172],\n",
       "       [-0.39825576,  1.71499693, -1.95127054,  0.43786907, -0.49638172],\n",
       "       [-0.72851   ,  0.88802023, -1.95127054,  0.43786907, -0.49638172]])"
      ]
     },
     "execution_count": 102,
     "metadata": {},
     "output_type": "execute_result"
    }
   ],
   "source": [
    "x"
   ]
  },
  {
   "cell_type": "markdown",
   "id": "1c92fd4e",
   "metadata": {},
   "source": [
    "## Model Building"
   ]
  },
  {
   "cell_type": "code",
   "execution_count": 103,
   "id": "b255bf67",
   "metadata": {},
   "outputs": [],
   "source": [
    "from sklearn.model_selection import train_test_split\n",
    "from sklearn.linear_model import LinearRegression\n",
    "from sklearn.metrics import r2_score\n",
    "\n",
    "from sklearn.ensemble import RandomForestRegressor\n",
    "from sklearn.ensemble import GradientBoostingRegressor\n",
    "from xgboost import XGBRegressor\n",
    "from sklearn.model_selection import RandomizedSearchCV\n",
    "from sklearn.metrics import mean_absolute_error,mean_squared_error,r2_score"
   ]
  },
  {
   "cell_type": "markdown",
   "id": "33aa0498",
   "metadata": {},
   "source": [
    "## Linear Regression\n",
    "### Finding Best Random State"
   ]
  },
  {
   "cell_type": "code",
   "execution_count": 104,
   "id": "15b89e29",
   "metadata": {},
   "outputs": [
    {
     "name": "stdout",
     "output_type": "stream",
     "text": [
      "Best r2 score is 0.32928243359120646 on Random State 105\n"
     ]
    }
   ],
   "source": [
    "# finding Best Random state\n",
    "maxAccu=0\n",
    "maxRS=0\n",
    "\n",
    "for i in range(1, 1000):\n",
    "    X_train, X_test, y_train, y_test = train_test_split(x, y, test_size=0.3, random_state=i)\n",
    "    lr=LinearRegression()\n",
    "    lr.fit(X_train, y_train)\n",
    "    pred = lr.predict(X_test)\n",
    "    r2 = r2_score(y_test, pred)\n",
    "    \n",
    "    if r2>maxAccu:\n",
    "        maxAccu=r2\n",
    "        maxRS=i\n",
    "\n",
    "print(\"Best r2 score is\", maxAccu,\"on Random State\", maxRS)"
   ]
  },
  {
   "cell_type": "code",
   "execution_count": 105,
   "id": "d54fb801",
   "metadata": {},
   "outputs": [],
   "source": [
    "# Splitting the data into train and test\n",
    "X_train, X_test, y_train, y_test = train_test_split(x, y, train_size=0.7, test_size=0.3, random_state=105)"
   ]
  },
  {
   "cell_type": "code",
   "execution_count": 106,
   "id": "47f8a21c",
   "metadata": {},
   "outputs": [],
   "source": [
    "regressors = {\n",
    "    'Linear Regression' : LinearRegression(),\n",
    "    \n",
    "}\n",
    "\n",
    "results=pd.DataFrame(columns=['MAE','MSE', 'RMSE', 'R2-score'])\n",
    "\n",
    "for method,func in regressors.items():\n",
    "    model = func.fit(X_train,y_train)\n",
    "    pred = model.predict(X_test)\n",
    "    results.loc[method]= [np.round(mean_absolute_error(y_test,pred),3),\n",
    "                          np.round(mean_squared_error(y_test,pred),3),\n",
    "                          np.sqrt(mean_squared_error(y_test,pred)),\n",
    "                          np.round(r2_score(y_test,pred),3)\n",
    "                          \n",
    "                         ]"
   ]
  },
  {
   "cell_type": "code",
   "execution_count": 107,
   "id": "6181c7c6",
   "metadata": {},
   "outputs": [
    {
     "data": {
      "text/html": [
       "<div>\n",
       "<style scoped>\n",
       "    .dataframe tbody tr th:only-of-type {\n",
       "        vertical-align: middle;\n",
       "    }\n",
       "\n",
       "    .dataframe tbody tr th {\n",
       "        vertical-align: top;\n",
       "    }\n",
       "\n",
       "    .dataframe thead th {\n",
       "        text-align: right;\n",
       "    }\n",
       "</style>\n",
       "<table border=\"1\" class=\"dataframe\">\n",
       "  <thead>\n",
       "    <tr style=\"text-align: right;\">\n",
       "      <th></th>\n",
       "      <th>MAE</th>\n",
       "      <th>MSE</th>\n",
       "      <th>RMSE</th>\n",
       "      <th>R2-score</th>\n",
       "    </tr>\n",
       "  </thead>\n",
       "  <tbody>\n",
       "    <tr>\n",
       "      <th>Linear Regression</th>\n",
       "      <td>89860.304</td>\n",
       "      <td>1.198599e+10</td>\n",
       "      <td>109480.545129</td>\n",
       "      <td>0.329</td>\n",
       "    </tr>\n",
       "  </tbody>\n",
       "</table>\n",
       "</div>"
      ],
      "text/plain": [
       "                         MAE           MSE           RMSE  R2-score\n",
       "Linear Regression  89860.304  1.198599e+10  109480.545129     0.329"
      ]
     },
     "execution_count": 107,
     "metadata": {},
     "output_type": "execute_result"
    }
   ],
   "source": [
    "results"
   ]
  },
  {
   "cell_type": "markdown",
   "id": "01a67ef0",
   "metadata": {},
   "source": [
    "### Cross - Validation of the model"
   ]
  },
  {
   "cell_type": "code",
   "execution_count": 108,
   "id": "51e76f54",
   "metadata": {},
   "outputs": [],
   "source": [
    "y_pred = lr.predict(X_test)\n",
    "from sklearn.model_selection import cross_val_score\n",
    "lss  = r2_score(y_test,y_pred)"
   ]
  },
  {
   "cell_type": "code",
   "execution_count": 109,
   "id": "c7252108",
   "metadata": {},
   "outputs": [
    {
     "name": "stdout",
     "output_type": "stream",
     "text": [
      "At cv:- 4\n",
      "Cross validation score is:- 16.855127519323293\n",
      "accuracy_score is:- 34.069082997475334\n",
      "\n",
      "\n",
      "At cv:- 5\n",
      "Cross validation score is:- 16.259158175192717\n",
      "accuracy_score is:- 34.069082997475334\n",
      "\n",
      "\n",
      "At cv:- 6\n",
      "Cross validation score is:- 15.471078887020115\n",
      "accuracy_score is:- 34.069082997475334\n",
      "\n",
      "\n",
      "At cv:- 7\n",
      "Cross validation score is:- 18.04443605028853\n",
      "accuracy_score is:- 34.069082997475334\n",
      "\n",
      "\n",
      "At cv:- 8\n",
      "Cross validation score is:- 17.526336158085495\n",
      "accuracy_score is:- 34.069082997475334\n",
      "\n",
      "\n",
      "At cv:- 9\n",
      "Cross validation score is:- 16.751168951789193\n",
      "accuracy_score is:- 34.069082997475334\n",
      "\n",
      "\n"
     ]
    }
   ],
   "source": [
    "for j in range(4,10):\n",
    "    isscore = cross_val_score(lr,x,y,cv=j)\n",
    "    lsc = isscore.mean()\n",
    "    print(\"At cv:-\",j)\n",
    "    print('Cross validation score is:-',lsc*100)\n",
    "    print('accuracy_score is:-',lss*100)\n",
    "    print('\\n')"
   ]
  },
  {
   "cell_type": "code",
   "execution_count": 110,
   "id": "a0a64095",
   "metadata": {},
   "outputs": [
    {
     "name": "stdout",
     "output_type": "stream",
     "text": [
      "The cv score is:  0.18044436050288531 \n",
      "The accuracy score is:  0.3406908299747533\n"
     ]
    }
   ],
   "source": [
    "lsscore_selected = cross_val_score(lr,x,y,cv=7).mean()\n",
    "print(\"The cv score is: \",lsscore_selected,\"\\nThe accuracy score is: \",lss)"
   ]
  },
  {
   "cell_type": "markdown",
   "id": "024c1133",
   "metadata": {},
   "source": [
    "## RandomForest Regressor\n",
    "### Finding Best Random State"
   ]
  },
  {
   "cell_type": "code",
   "execution_count": 111,
   "id": "feb1a937",
   "metadata": {},
   "outputs": [
    {
     "name": "stdout",
     "output_type": "stream",
     "text": [
      "Best r2 score is 0.664022980094553 on Random State 542\n"
     ]
    }
   ],
   "source": [
    "# finding Best Random state\n",
    "maxAccu=0\n",
    "maxRS=0\n",
    "\n",
    "for i in range(1, 1000):\n",
    "    X_train, X_test, y_train, y_test = train_test_split(x, y, test_size=0.3, random_state=i)\n",
    "    rf = RandomForestRegressor()\n",
    "    rf.fit(X_train, y_train)\n",
    "    pred = rf.predict(X_test)\n",
    "    r2 = r2_score(y_test, pred)\n",
    "    \n",
    "    if r2>maxAccu:\n",
    "        maxAccu=r2\n",
    "        maxRS=i\n",
    "\n",
    "print(\"Best r2 score is\", maxAccu,\"on Random State\", maxRS)"
   ]
  },
  {
   "cell_type": "code",
   "execution_count": 112,
   "id": "4a9b7aa9",
   "metadata": {},
   "outputs": [],
   "source": [
    "# Splitting the data into train and test\n",
    "X_train, X_test, y_train, y_test = train_test_split(x, y, train_size=0.7, test_size=0.3, random_state=542)"
   ]
  },
  {
   "cell_type": "code",
   "execution_count": 113,
   "id": "5b2e3335",
   "metadata": {},
   "outputs": [],
   "source": [
    "regressors = {\n",
    "    \n",
    "    'Random Forest' : RandomForestRegressor(),\n",
    "    \n",
    "}\n",
    "\n",
    "results=pd.DataFrame(columns=['MAE','MSE', 'RMSE', 'R2-score'])\n",
    "\n",
    "for method,func in regressors.items():\n",
    "    model = func.fit(X_train,y_train)\n",
    "    pred = model.predict(X_test)\n",
    "    results.loc[method]= [np.round(mean_absolute_error(y_test,pred),3),\n",
    "                          np.round(mean_squared_error(y_test,pred),3),\n",
    "                          np.sqrt(mean_squared_error(y_test,pred)),\n",
    "                          np.round(r2_score(y_test,pred),3)\n",
    "                          \n",
    "                         ]"
   ]
  },
  {
   "cell_type": "code",
   "execution_count": 114,
   "id": "25916656",
   "metadata": {},
   "outputs": [
    {
     "data": {
      "text/html": [
       "<div>\n",
       "<style scoped>\n",
       "    .dataframe tbody tr th:only-of-type {\n",
       "        vertical-align: middle;\n",
       "    }\n",
       "\n",
       "    .dataframe tbody tr th {\n",
       "        vertical-align: top;\n",
       "    }\n",
       "\n",
       "    .dataframe thead th {\n",
       "        text-align: right;\n",
       "    }\n",
       "</style>\n",
       "<table border=\"1\" class=\"dataframe\">\n",
       "  <thead>\n",
       "    <tr style=\"text-align: right;\">\n",
       "      <th></th>\n",
       "      <th>MAE</th>\n",
       "      <th>MSE</th>\n",
       "      <th>RMSE</th>\n",
       "      <th>R2-score</th>\n",
       "    </tr>\n",
       "  </thead>\n",
       "  <tbody>\n",
       "    <tr>\n",
       "      <th>Random Forest</th>\n",
       "      <td>59172.31</td>\n",
       "      <td>5.849114e+09</td>\n",
       "      <td>76479.502182</td>\n",
       "      <td>0.633</td>\n",
       "    </tr>\n",
       "  </tbody>\n",
       "</table>\n",
       "</div>"
      ],
      "text/plain": [
       "                    MAE           MSE          RMSE  R2-score\n",
       "Random Forest  59172.31  5.849114e+09  76479.502182     0.633"
      ]
     },
     "execution_count": 114,
     "metadata": {},
     "output_type": "execute_result"
    }
   ],
   "source": [
    "results"
   ]
  },
  {
   "cell_type": "markdown",
   "id": "049032cc",
   "metadata": {},
   "source": [
    "### Cross - Validation of the model"
   ]
  },
  {
   "cell_type": "code",
   "execution_count": 115,
   "id": "593fccdc",
   "metadata": {},
   "outputs": [],
   "source": [
    "rf = RandomForestRegressor()\n",
    "rf.fit(X_train,y_train)\n",
    "y_pred = rf.predict(X_test)\n",
    "lss  = r2_score(y_test,y_pred)"
   ]
  },
  {
   "cell_type": "code",
   "execution_count": 116,
   "id": "0fbf1226",
   "metadata": {},
   "outputs": [
    {
     "name": "stdout",
     "output_type": "stream",
     "text": [
      "At cv:- 4\n",
      "Cross validation score is:- 46.673356656461806\n",
      "accuracy_score is:- 65.14786396013046\n",
      "\n",
      "\n",
      "At cv:- 5\n",
      "Cross validation score is:- 46.323078437931\n",
      "accuracy_score is:- 65.14786396013046\n",
      "\n",
      "\n",
      "At cv:- 6\n",
      "Cross validation score is:- 48.63362656825655\n",
      "accuracy_score is:- 65.14786396013046\n",
      "\n",
      "\n",
      "At cv:- 7\n",
      "Cross validation score is:- 53.83785794067488\n",
      "accuracy_score is:- 65.14786396013046\n",
      "\n",
      "\n",
      "At cv:- 8\n",
      "Cross validation score is:- 53.42495358398573\n",
      "accuracy_score is:- 65.14786396013046\n",
      "\n",
      "\n",
      "At cv:- 9\n",
      "Cross validation score is:- 52.776514495211735\n",
      "accuracy_score is:- 65.14786396013046\n",
      "\n",
      "\n"
     ]
    }
   ],
   "source": [
    "for j in range(4,10):\n",
    "    isscore = cross_val_score(rf,x,y,cv=j)\n",
    "    lsc = isscore.mean()\n",
    "    print(\"At cv:-\",j)\n",
    "    print('Cross validation score is:-',lsc*100)\n",
    "    print('accuracy_score is:-',lss*100)\n",
    "    print('\\n')"
   ]
  },
  {
   "cell_type": "code",
   "execution_count": 117,
   "id": "6f332667",
   "metadata": {},
   "outputs": [
    {
     "name": "stdout",
     "output_type": "stream",
     "text": [
      "The cv score is:  0.5353572566331872 \n",
      "The accuracy score is:  0.6514786396013046\n"
     ]
    }
   ],
   "source": [
    "lsscore_selected = cross_val_score(rf,x,y,cv=7).mean()\n",
    "print(\"The cv score is: \",lsscore_selected,\"\\nThe accuracy score is: \",lss)"
   ]
  },
  {
   "cell_type": "markdown",
   "id": "5657bbe7",
   "metadata": {},
   "source": [
    "## Gradient Boosting Regressor\n",
    "### Finding Best Random State"
   ]
  },
  {
   "cell_type": "code",
   "execution_count": 118,
   "id": "3eae9476",
   "metadata": {},
   "outputs": [
    {
     "name": "stdout",
     "output_type": "stream",
     "text": [
      "Best r2 score is 0.6128833242011187 on Random State 30\n"
     ]
    }
   ],
   "source": [
    "# finding Best Random state\n",
    "maxAccu=0\n",
    "maxRS=0\n",
    "\n",
    "for i in range(1, 1000):\n",
    "    X_train, X_test, y_train, y_test = train_test_split(x, y, test_size=0.3, random_state=i)\n",
    "    gbr = GradientBoostingRegressor()\n",
    "    gbr.fit(X_train, y_train)\n",
    "    pred = gbr.predict(X_test)\n",
    "    r2 = r2_score(y_test, pred)\n",
    "    \n",
    "    if r2>maxAccu:\n",
    "        maxAccu=r2\n",
    "        maxRS=i\n",
    "\n",
    "print(\"Best r2 score is\", maxAccu,\"on Random State\", maxRS)"
   ]
  },
  {
   "cell_type": "code",
   "execution_count": 119,
   "id": "8b74b8f7",
   "metadata": {},
   "outputs": [],
   "source": [
    "# Splitting the data into train and test\n",
    "X_train, X_test, y_train, y_test = train_test_split(x, y, train_size=0.7, test_size=0.3, random_state=30)"
   ]
  },
  {
   "cell_type": "code",
   "execution_count": 120,
   "id": "c4602881",
   "metadata": {},
   "outputs": [],
   "source": [
    "regressors = {\n",
    "    \n",
    "    'Gradient Boost Regressor' : GradientBoostingRegressor(),\n",
    "    \n",
    "}\n",
    "\n",
    "results=pd.DataFrame(columns=['MAE','MSE', 'RMSE', 'R2-score'])\n",
    "\n",
    "for method,func in regressors.items():\n",
    "    model = func.fit(X_train,y_train)\n",
    "    pred = model.predict(X_test)\n",
    "    results.loc[method]= [np.round(mean_absolute_error(y_test,pred),3),\n",
    "                          np.round(mean_squared_error(y_test,pred),3),\n",
    "                          np.sqrt(mean_squared_error(y_test,pred)),\n",
    "                          np.round(r2_score(y_test,pred),3)\n",
    "                          \n",
    "                         ]"
   ]
  },
  {
   "cell_type": "code",
   "execution_count": 121,
   "id": "355a2e41",
   "metadata": {},
   "outputs": [
    {
     "data": {
      "text/html": [
       "<div>\n",
       "<style scoped>\n",
       "    .dataframe tbody tr th:only-of-type {\n",
       "        vertical-align: middle;\n",
       "    }\n",
       "\n",
       "    .dataframe tbody tr th {\n",
       "        vertical-align: top;\n",
       "    }\n",
       "\n",
       "    .dataframe thead th {\n",
       "        text-align: right;\n",
       "    }\n",
       "</style>\n",
       "<table border=\"1\" class=\"dataframe\">\n",
       "  <thead>\n",
       "    <tr style=\"text-align: right;\">\n",
       "      <th></th>\n",
       "      <th>MAE</th>\n",
       "      <th>MSE</th>\n",
       "      <th>RMSE</th>\n",
       "      <th>R2-score</th>\n",
       "    </tr>\n",
       "  </thead>\n",
       "  <tbody>\n",
       "    <tr>\n",
       "      <th>Gradient Boost Regressor</th>\n",
       "      <td>63310.362</td>\n",
       "      <td>6.953908e+09</td>\n",
       "      <td>83390.095749</td>\n",
       "      <td>0.616</td>\n",
       "    </tr>\n",
       "  </tbody>\n",
       "</table>\n",
       "</div>"
      ],
      "text/plain": [
       "                                MAE           MSE          RMSE  R2-score\n",
       "Gradient Boost Regressor  63310.362  6.953908e+09  83390.095749     0.616"
      ]
     },
     "execution_count": 121,
     "metadata": {},
     "output_type": "execute_result"
    }
   ],
   "source": [
    "results"
   ]
  },
  {
   "cell_type": "markdown",
   "id": "a53e5b92",
   "metadata": {},
   "source": [
    "### Cross Validation of the Model"
   ]
  },
  {
   "cell_type": "code",
   "execution_count": 122,
   "id": "d04f5eb2",
   "metadata": {},
   "outputs": [],
   "source": [
    "gbr = GradientBoostingRegressor()\n",
    "gbr.fit(X_train,y_train)\n",
    "y_pred = gbr.predict(X_test)\n",
    "from sklearn.model_selection import cross_val_score\n",
    "lss  = r2_score(y_test,y_pred)"
   ]
  },
  {
   "cell_type": "code",
   "execution_count": 123,
   "id": "04525c38",
   "metadata": {},
   "outputs": [
    {
     "name": "stdout",
     "output_type": "stream",
     "text": [
      "At cv:- 4\n",
      "Cross validation score is:- 43.54856016836865\n",
      "accuracy_score is:- 61.4268252375739\n",
      "\n",
      "\n",
      "At cv:- 5\n",
      "Cross validation score is:- 42.369607307845015\n",
      "accuracy_score is:- 61.4268252375739\n",
      "\n",
      "\n",
      "At cv:- 6\n",
      "Cross validation score is:- 43.66046694954064\n",
      "accuracy_score is:- 61.4268252375739\n",
      "\n",
      "\n",
      "At cv:- 7\n",
      "Cross validation score is:- 45.828478228894035\n",
      "accuracy_score is:- 61.4268252375739\n",
      "\n",
      "\n",
      "At cv:- 8\n",
      "Cross validation score is:- 45.3616157244546\n",
      "accuracy_score is:- 61.4268252375739\n",
      "\n",
      "\n",
      "At cv:- 9\n",
      "Cross validation score is:- 45.297572721404855\n",
      "accuracy_score is:- 61.4268252375739\n",
      "\n",
      "\n"
     ]
    }
   ],
   "source": [
    "for j in range(4,10):\n",
    "    isscore = cross_val_score(gbr,x,y,cv=j)\n",
    "    lsc = isscore.mean()\n",
    "    print(\"At cv:-\",j)\n",
    "    print('Cross validation score is:-',lsc*100)\n",
    "    print('accuracy_score is:-',lss*100)\n",
    "    print('\\n')"
   ]
  },
  {
   "cell_type": "code",
   "execution_count": 124,
   "id": "b478b933",
   "metadata": {},
   "outputs": [
    {
     "name": "stdout",
     "output_type": "stream",
     "text": [
      "The cv score is:  0.4580247534879835 \n",
      "The accuracy score is:  0.614268252375739\n"
     ]
    }
   ],
   "source": [
    "lsscore_selected = cross_val_score(gbr,x,y,cv=7).mean()\n",
    "print(\"The cv score is: \",lsscore_selected,\"\\nThe accuracy score is: \",lss)"
   ]
  },
  {
   "cell_type": "markdown",
   "id": "5fb091fd",
   "metadata": {},
   "source": [
    "## XGBRegressor\n",
    "### Finding Best Random State"
   ]
  },
  {
   "cell_type": "code",
   "execution_count": 125,
   "id": "d7b8ee3b",
   "metadata": {},
   "outputs": [
    {
     "name": "stdout",
     "output_type": "stream",
     "text": [
      "Best r2 score is 0.6861039395010371 on Random State 90\n"
     ]
    }
   ],
   "source": [
    "# finding Best Random state\n",
    "maxAccu=0\n",
    "maxRS=0\n",
    "\n",
    "for i in range(1, 1000):\n",
    "    X_train, X_test, y_train, y_test = train_test_split(x, y, test_size=0.3, random_state=i)\n",
    "    xgb = XGBRegressor()\n",
    "    xgb.fit(X_train, y_train)\n",
    "    pred = xgb.predict(X_test)\n",
    "    r2 = r2_score(y_test, pred)\n",
    "    \n",
    "    if r2>maxAccu:\n",
    "        maxAccu=r2\n",
    "        maxRS=i\n",
    "\n",
    "print(\"Best r2 score is\", maxAccu,\"on Random State\", maxRS)"
   ]
  },
  {
   "cell_type": "code",
   "execution_count": 126,
   "id": "769193ef",
   "metadata": {},
   "outputs": [],
   "source": [
    "# Splitting the data into train and test\n",
    "X_train, X_test, y_train, y_test = train_test_split(x, y, train_size=0.7, test_size=0.3, random_state=90)"
   ]
  },
  {
   "cell_type": "code",
   "execution_count": 127,
   "id": "b6840eac",
   "metadata": {},
   "outputs": [],
   "source": [
    "regressors = {\n",
    "    \n",
    "    'XG Boost Regressor' : XGBRegressor()\n",
    "    \n",
    "}\n",
    "\n",
    "results=pd.DataFrame(columns=['MAE','MSE', 'RMSE', 'R2-score'])\n",
    "\n",
    "for method,func in regressors.items():\n",
    "    model = func.fit(X_train,y_train)\n",
    "    pred = model.predict(X_test)\n",
    "    results.loc[method]= [np.round(mean_absolute_error(y_test,pred),3),\n",
    "                          np.round(mean_squared_error(y_test,pred),3),\n",
    "                          np.sqrt(mean_squared_error(y_test,pred)),\n",
    "                          np.round(r2_score(y_test,pred),3)\n",
    "                          \n",
    "                         ]"
   ]
  },
  {
   "cell_type": "code",
   "execution_count": 128,
   "id": "3bbce396",
   "metadata": {},
   "outputs": [
    {
     "data": {
      "text/html": [
       "<div>\n",
       "<style scoped>\n",
       "    .dataframe tbody tr th:only-of-type {\n",
       "        vertical-align: middle;\n",
       "    }\n",
       "\n",
       "    .dataframe tbody tr th {\n",
       "        vertical-align: top;\n",
       "    }\n",
       "\n",
       "    .dataframe thead th {\n",
       "        text-align: right;\n",
       "    }\n",
       "</style>\n",
       "<table border=\"1\" class=\"dataframe\">\n",
       "  <thead>\n",
       "    <tr style=\"text-align: right;\">\n",
       "      <th></th>\n",
       "      <th>MAE</th>\n",
       "      <th>MSE</th>\n",
       "      <th>RMSE</th>\n",
       "      <th>R2-score</th>\n",
       "    </tr>\n",
       "  </thead>\n",
       "  <tbody>\n",
       "    <tr>\n",
       "      <th>XG Boost Regressor</th>\n",
       "      <td>52167.006</td>\n",
       "      <td>5.300535e+09</td>\n",
       "      <td>72804.775196</td>\n",
       "      <td>0.686</td>\n",
       "    </tr>\n",
       "  </tbody>\n",
       "</table>\n",
       "</div>"
      ],
      "text/plain": [
       "                          MAE           MSE          RMSE  R2-score\n",
       "XG Boost Regressor  52167.006  5.300535e+09  72804.775196     0.686"
      ]
     },
     "execution_count": 128,
     "metadata": {},
     "output_type": "execute_result"
    }
   ],
   "source": [
    "results"
   ]
  },
  {
   "cell_type": "markdown",
   "id": "f252fc5b",
   "metadata": {},
   "source": [
    "### Cross-validation of the model"
   ]
  },
  {
   "cell_type": "code",
   "execution_count": 129,
   "id": "bd08f79a",
   "metadata": {},
   "outputs": [],
   "source": [
    "xgb = XGBRegressor()\n",
    "xgb.fit(X_train,y_train)\n",
    "\n",
    "y_pred = xgb.predict(X_test)\n",
    "lss  = r2_score(y_test,y_pred)"
   ]
  },
  {
   "cell_type": "code",
   "execution_count": 130,
   "id": "479721bb",
   "metadata": {},
   "outputs": [
    {
     "name": "stdout",
     "output_type": "stream",
     "text": [
      "At cv:- 4\n",
      "Cross validation score is:- 46.59685942584823\n",
      "accuracy_score is:- 68.61039395010371\n",
      "\n",
      "\n",
      "At cv:- 5\n",
      "Cross validation score is:- 48.999130625931784\n",
      "accuracy_score is:- 68.61039395010371\n",
      "\n",
      "\n",
      "At cv:- 6\n",
      "Cross validation score is:- 47.274640915976775\n",
      "accuracy_score is:- 68.61039395010371\n",
      "\n",
      "\n",
      "At cv:- 7\n",
      "Cross validation score is:- 55.136781748027296\n",
      "accuracy_score is:- 68.61039395010371\n",
      "\n",
      "\n",
      "At cv:- 8\n",
      "Cross validation score is:- 51.980030269951925\n",
      "accuracy_score is:- 68.61039395010371\n",
      "\n",
      "\n",
      "At cv:- 9\n",
      "Cross validation score is:- 53.13968174882427\n",
      "accuracy_score is:- 68.61039395010371\n",
      "\n",
      "\n"
     ]
    }
   ],
   "source": [
    "for j in range(4,10):\n",
    "    isscore = cross_val_score(xgb,x,y,cv=j)\n",
    "    lsc = isscore.mean()\n",
    "    print(\"At cv:-\",j)\n",
    "    print('Cross validation score is:-',lsc*100)\n",
    "    print('accuracy_score is:-',lss*100)\n",
    "    print('\\n')"
   ]
  },
  {
   "cell_type": "code",
   "execution_count": 131,
   "id": "a3bb6ea7",
   "metadata": {},
   "outputs": [
    {
     "name": "stdout",
     "output_type": "stream",
     "text": [
      "The cv score is:  0.551367817480273 \n",
      "The accuracy score is:  0.6861039395010371\n"
     ]
    }
   ],
   "source": [
    "lsscore_selected = cross_val_score(xgb,x,y,cv=7).mean()\n",
    "print(\"The cv score is: \",lsscore_selected,\"\\nThe accuracy score is: \",lss)"
   ]
  },
  {
   "cell_type": "markdown",
   "id": "488e363e",
   "metadata": {},
   "source": [
    "## Regularization"
   ]
  },
  {
   "cell_type": "code",
   "execution_count": 132,
   "id": "c6e6ac72",
   "metadata": {},
   "outputs": [],
   "source": [
    "from sklearn.model_selection import GridSearchCV\n",
    "from sklearn.linear_model import Lasso"
   ]
  },
  {
   "cell_type": "code",
   "execution_count": 133,
   "id": "ad21c59f",
   "metadata": {},
   "outputs": [
    {
     "data": {
      "text/plain": [
       "{'alpha': 10, 'random_state': 0}"
      ]
     },
     "execution_count": 133,
     "metadata": {},
     "output_type": "execute_result"
    }
   ],
   "source": [
    "parameters = {'alpha':[0.0001,0.001,0.01,0.1,1 ,10],\n",
    "             'random_state':list(range(0,10))}\n",
    "\n",
    "ls = Lasso()\n",
    "clf = GridSearchCV(ls,parameters)\n",
    "clf.fit(X_train,y_train)\n",
    "clf.best_params_"
   ]
  },
  {
   "cell_type": "code",
   "execution_count": 134,
   "id": "f531dfb5",
   "metadata": {},
   "outputs": [
    {
     "data": {
      "text/plain": [
       "24.972222899017915"
      ]
     },
     "execution_count": 134,
     "metadata": {},
     "output_type": "execute_result"
    }
   ],
   "source": [
    "ls = Lasso(alpha=10,random_state=0)\n",
    "ls.fit(X_train,y_train)\n",
    "ls_score_training = ls.score(X_train,y_train)\n",
    "pred_ls = ls.predict(X_test)\n",
    "ls_score_training*100"
   ]
  },
  {
   "cell_type": "code",
   "execution_count": 135,
   "id": "62af1610",
   "metadata": {},
   "outputs": [
    {
     "data": {
      "text/plain": [
       "21.436761446284834"
      ]
     },
     "execution_count": 135,
     "metadata": {},
     "output_type": "execute_result"
    }
   ],
   "source": [
    "pred = r2_score(y_test,pred_ls)\n",
    "pred*100"
   ]
  },
  {
   "cell_type": "code",
   "execution_count": 136,
   "id": "4bada516",
   "metadata": {},
   "outputs": [
    {
     "data": {
      "text/plain": [
       "16.859385486345232"
      ]
     },
     "execution_count": 136,
     "metadata": {},
     "output_type": "execute_result"
    }
   ],
   "source": [
    "cv_score = cross_val_score(ls,x,y,cv = 4)\n",
    "cv_mean = cv_score.mean()\n",
    "cv_mean*100"
   ]
  },
  {
   "cell_type": "markdown",
   "id": "ba35c890",
   "metadata": {},
   "source": [
    "## Selection of Best Model\n",
    "### Based on comparing Accuracy Score results with Cross Validation results, it is determined XGboost Regressor is the best model. It has least difference between accuracy score and cross validation score."
   ]
  },
  {
   "cell_type": "markdown",
   "id": "f562c71d",
   "metadata": {},
   "source": [
    "## Hyperparameter tuning"
   ]
  },
  {
   "cell_type": "code",
   "execution_count": 139,
   "id": "e4a30325",
   "metadata": {},
   "outputs": [],
   "source": [
    "from sklearn.model_selection import GridSearchCV, RandomizedSearchCV"
   ]
  },
  {
   "cell_type": "code",
   "execution_count": 140,
   "id": "6ed3f241",
   "metadata": {},
   "outputs": [],
   "source": [
    "# Splitting the data into train and test\n",
    "X_train, X_test, y_train, y_test = train_test_split(x, y, train_size=0.7, test_size=0.3, random_state=90)"
   ]
  },
  {
   "cell_type": "code",
   "execution_count": 147,
   "id": "7c172640",
   "metadata": {},
   "outputs": [],
   "source": [
    "param = {'learning_rate':[0.1,0.2,0.3],\n",
    "        'n_estimators':[150,200,300],\n",
    "        'max_depth':[5,10,15],\n",
    "        'min_child_weight':[7,9,11],\n",
    "        'gamma':[0,0.1,0.2,0.3],\n",
    "        'colsample_bytree':[0.3,0.4,0.5]}"
   ]
  },
  {
   "cell_type": "code",
   "execution_count": 148,
   "id": "c2bf62d7",
   "metadata": {},
   "outputs": [],
   "source": [
    "grd = GridSearchCV(xgb,param_grid=param)"
   ]
  },
  {
   "cell_type": "code",
   "execution_count": 149,
   "id": "9ac49caf",
   "metadata": {},
   "outputs": [
    {
     "data": {
      "text/plain": [
       "{'colsample_bytree': 0.3,\n",
       " 'gamma': 0,\n",
       " 'learning_rate': 0.3,\n",
       " 'max_depth': 15,\n",
       " 'min_child_weight': 9,\n",
       " 'n_estimators': 300}"
      ]
     },
     "execution_count": 149,
     "metadata": {},
     "output_type": "execute_result"
    }
   ],
   "source": [
    "grd.fit(X_train,y_train)\n",
    "\n",
    "grd.best_params_"
   ]
  },
  {
   "cell_type": "code",
   "execution_count": 218,
   "id": "8a3e02a1",
   "metadata": {},
   "outputs": [
    {
     "data": {
      "text/plain": [
       "0.6861039395010371"
      ]
     },
     "execution_count": 218,
     "metadata": {},
     "output_type": "execute_result"
    }
   ],
   "source": [
    "xgb = XGBRegressor(colsample_bytree=1, gamma=0, max_depth=6, min_child_weight=1, n_estimators=100,learning_rate=0.3)\n",
    "xgb.fit(X_train,y_train)\n",
    "\n",
    "y_pred = xgb.predict(X_test)\n",
    "r2_score(y_test,y_pred)"
   ]
  },
  {
   "cell_type": "code",
   "execution_count": 220,
   "id": "0c6493b4",
   "metadata": {},
   "outputs": [
    {
     "data": {
      "image/png": "[encoded data removed]",
      "text/plain": [
       "<Figure size 500x300 with 1 Axes>"
      ]
     },
     "metadata": {},
     "output_type": "display_data"
    }
   ],
   "source": [
    "plt.figure(figsize=(5,3))\n",
    "plt.scatter(x=y_test,y=y_pred)\n",
    "plt.plot(y_test,y_test)\n",
    "plt.xlabel('Actual Selling Price')\n",
    "plt.ylabel('Predicted Selling Price')\n",
    "plt.show()"
   ]
  },
  {
   "cell_type": "markdown",
   "id": "07176253",
   "metadata": {},
   "source": [
    "## Model Save"
   ]
  },
  {
   "cell_type": "code",
   "execution_count": 221,
   "id": "57d7d693",
   "metadata": {},
   "outputs": [
    {
     "data": {
      "text/plain": [
       "['car_price_prediction.pkl']"
      ]
     },
     "execution_count": 221,
     "metadata": {},
     "output_type": "execute_result"
    }
   ],
   "source": [
    "import joblib\n",
    "joblib.dump(xgb,\"car_price_prediction.pkl\")"
   ]
  },
  {
   "cell_type": "markdown",
   "id": "1573df4a",
   "metadata": {},
   "source": [
    "### Loading The Model"
   ]
  },
  {
   "cell_type": "code",
   "execution_count": 222,
   "id": "81327b8b",
   "metadata": {},
   "outputs": [],
   "source": [
    "mod=joblib.load(\"car_price_prediction.pkl\")"
   ]
  },
  {
   "cell_type": "markdown",
   "id": "de4554cd",
   "metadata": {},
   "source": [
    "### Predicting the Selling Price of car"
   ]
  },
  {
   "cell_type": "code",
   "execution_count": 223,
   "id": "01604c47",
   "metadata": {},
   "outputs": [
    {
     "name": "stdout",
     "output_type": "stream",
     "text": [
      "[505247.8  508688.62 565316.8  554702.56 179277.72 615746.2  628873.56\n",
      " 639082.4  290217.3  508320.72 492352.1  496635.62 666270.2  270391.06\n",
      " 404146.66 572504.25 268726.44 500658.97 259172.34 595106.56 491993.38\n",
      " 499692.2  590961.   302134.28 504404.75 514221.7  604334.2  724937.9\n",
      " 496275.34 742477.9  596583.6  793772.5  457253.5  261143.12 511697.53\n",
      " 457253.5  697010.   600113.44 275317.4  766250.44 651443.56 190787.64\n",
      " 389142.56 519053.84 543740.9  187674.88 586346.44 499101.62 437522.3\n",
      " 497497.66 498132.6  604972.06 318435.8  551047.7  650402.4  289433.66\n",
      " 381667.97 509927.4  496461.88 440487.94 608507.56 514095.03 506498.94\n",
      " 516997.2  654065.25 285201.8  392083.78 515357.   599626.3  451221.25\n",
      " 498307.56 376189.3  502381.38 438388.4  268777.38 711850.06 268932.72\n",
      " 579217.   496580.2  506425.47 219020.27 519644.2  498544.7  255730.77\n",
      " 264741.88 659197.6  405748.47 501339.1  367508.66 618576.06 562280.2\n",
      " 497354.22 382474.2  578322.1  193096.53 731969.9  502535.94 503146.5\n",
      " 543251.5  602611.56 292189.97 395816.12 499543.78 492286.34 511855.38\n",
      " 259993.28 504435.44 498498.7  450555.16 768636.1  505812.56 539538.2\n",
      " 365862.34 529113.4  591282.4  582267.25 393936.6  721603.56 340173.16\n",
      " 360150.2  520935.1  504422.   500545.53 535478.7  613063.9  446166.53\n",
      " 676040.5  497717.84 335853.   493671.34 496285.25 372043.75 210734.67\n",
      " 512029.5  513175.6  469361.5  561047.94 560176.94 492756.9  498994.25\n",
      " 290931.16 484282.72 510962.84 501669.6  460696.75 596359.5  734664.25\n",
      " 516309.3  654006.9  580843.94 273306.38 336891.78 384184.78 668903.56\n",
      " 343944.44 380595.5  345037.56 509967.53 515520.16 452360.9  662321.75\n",
      " 387070.97 563035.7  245670.6  482283.78 316561.38 501316.1  583081.9\n",
      " 539210.2  620463.2  513963.25 525847.94 499587.4  337566.88 499811.6\n",
      " 622496.6  417196.88 497237.25 342759.9  499198.72 511470.3  378052.6\n",
      " 559583.25 430160.9  349830.9  509345.6  450488.8  453782.22 689211.56\n",
      " 600777.2  500820.1  518182.44 295753.22 363905.94 538499.4  529493.7\n",
      " 558411.7  600170.4  509386.5  488375.94 519715.62 214554.   587507.44\n",
      " 571617.4  500547.78 530527.9  592192.75 497701.75 361584.03 516055.97\n",
      " 498899.72 484549.6  329580.66 500497.97 431700.22 565829.1  501453.16\n",
      " 431644.94 707436.25 503195.25 724116.5  365448.   353024.88 502172.7\n",
      " 646121.44 597621.8  436492.97 498784.88 491913.3  528179.25 486072.6\n",
      " 321255.   515902.9  635102.56 362006.78 637596.6  498630.   376031.9\n",
      " 470031.22 755665.   494376.62 521621.12 308170.03 501837.66 499035.53\n",
      " 534530.8  436492.97 408714.1  670241.1  611636.7  616389.8  675071.5\n",
      " 357446.97 742561.6  376031.9  610084.75 330824.78 540279.94 313256.5\n",
      " 522274.47 591579.94 330620.5  607652.6  444416.8  659276.   415053.78\n",
      " 499126.44 756212.25 605586.6  649125.6  497032.28 668625.25 255029.56\n",
      " 479768.75 503200.34 380005.97 499987.78 305747.84 496953.62 496044.38\n",
      " 349148.22 656634.5  500271.53 432448.16 423931.84 497437.12 454519.47\n",
      " 465541.38 489882.5  496019.7  193844.69 540439.   600452.5  729859.\n",
      " 599300.75 585342.8  509753.12 256417.75 534445.56 538670.25 715664.5\n",
      " 352392.47 519020.7  523769.7  576370.   500060.38 544435.25 445100.9\n",
      " 459401.   509429.16 619888.6  656634.5  472415.4  465635.53 497411.03\n",
      " 463926.66 580360.9  498307.56 473962.75 495531.28 527065.   517929.3\n",
      " 623198.56 509627.38 454129.   516627.6  415044.9  718911.1  673929.2\n",
      " 744998.   514038.22 443929.06 496190.56 736170.06 520591.38 493299.25\n",
      " 636838.5  502352.38 510626.06 363501.25 506627.75 647083.8  646074.2\n",
      " 504237.47 442631.94 715105.94 508662.38 595799.56 502599.   502667.12\n",
      " 295920.84 613329.7  501711.62 445449.9  687181.44 264753.62 419645.12\n",
      " 685466.56 381041.1  499677.6  676026.   498925.72 501541.78 303351.56\n",
      " 368755.12 396578.25 335540.8  507409.9  359616.97 405488.38 463835.34\n",
      " 452541.8  503738.12 301506.6  491646.75 554752.06 533330.8  749574.06\n",
      " 504744.6  495015.1  708383.8  383620.16 550252.7  434832.5  411707.16\n",
      " 496238.2  277074.56 521941.03 503654.56 465490.8  442146.38 416574.8\n",
      " 697793.75 743596.8  516851.38 712156.3  408534.56 383714.9  538352.56\n",
      " 302704.16 527758.56 495609.06 628714.2  504651.47 698043.25 425290.12\n",
      " 575288.06 504703.62 389809.66 328432.94 375138.44 420810.97 500936.97\n",
      " 331480.8  584599.6  476847.7  521800.34 527869.94 500889.84 651060.3\n",
      " 336124.84 594152.75 518783.34 354894.75 504878.03 540435.4  526977.6\n",
      " 457824.97 584207.3  780691.25 491935.78 659747.75 555949.5  585812.75\n",
      " 388231.66 507324.9  683928.75 484546.94 349039.1  492328.12 474393.9\n",
      " 438875.56 478472.72 467292.94 454361.03 353386.6  623171.9  697793.75\n",
      " 684710.94 664948.3  434146.5  508844.34 433236.5  574004.9  500596.2\n",
      " 616976.94 503554.28 584305.6  305049.47 339833.12 484570.53 574085.9\n",
      " 678705.5  625721.1  378589.78 504482.6  549728.94 475539.44 419290.9\n",
      " 386318.88 377788.94 376673.94 687233.94 528037.   503984.   634030.44\n",
      " 448792.75 501339.1  482339.75 485535.2  609975.5  491922.7  410868.34\n",
      " 499400.94 506411.34 416914.84 506618.9  545094.06 486860.28 318668.28\n",
      " 486275.06 663088.94 414141.62 502958.75 531999.7  362983.03 588230.3\n",
      " 477291.5  424263.62 537349.   379386.38 523105.75 760532.4  538700.75\n",
      " 464563.   496312.3  494900.12 721230.5  460873.06 359045.94 571895.7\n",
      " 453006.84 666659.94 268178.62 495807.66 606370.6  504878.03 418343.16\n",
      " 512322.34 496207.3  493797.62 704666.7  374971.1  531161.3  317956.8\n",
      " 499527.72 502818.06 501359.44 486864.72 423756.03 455672.72 576683.06\n",
      " 506374.56 488220.7  482218.22 438260.25 503709.4  498218.72 574289.25\n",
      " 510474.53 453548.8  696256.6  494305.22 339029.22 505867.88 507324.9\n",
      " 497471.3  681859.06 502967.8  483504.78 326284.38 395192.3  355283.25\n",
      " 595211.56 570383.   600250.06 537185.6  405341.3  512969.1  422916.56\n",
      " 562199.7  506172.66 518101.8  630795.2  460813.4  497252.75 424672.34\n",
      " 546252.75 465635.53 538067.6  511657.62 572866.06 331740.12 310957.7\n",
      " 427368.12 494021.   662157.3  411259.88 625779.1  557484.75 654823.4\n",
      " 442403.5  635478.06 676379.75 505060.44 567259.25 532933.6  382996.53\n",
      " 455498.4  448306.22 502244.38 385531.47 498688.2  498114.78 669970.25\n",
      " 544910.94 500878.62 552143.94 508358.97 530971.7  496643.47 498886.53\n",
      " 494845.16 608237.   513916.12 657438.9  604231.25 577848.7  721103.4\n",
      " 538226.25 426117.38 574884.   666432.5  336605.44 502008.88 721655.94\n",
      " 609528.9  502365.8  322638.7  391458.6  351938.12 475790.56 612008.8\n",
      " 457824.97 514343.78 411996.78 491883.66 398327.5  361485.3  604231.25\n",
      " 499390.3  356603.28 466576.72 555856.8  651751.94 485284.22 503047.94\n",
      " 329734.53 329740.75 740704.   331291.62 564410.6  358741.66 520632.22\n",
      " 502204.03 451308.16 543385.   586370.5  346324.4  495518.66 498057.7\n",
      " 489110.94 461476.5  626943.6  672519.25 318046.56 688721.3  488284.22\n",
      " 499252.53 763972.3  633936.94 504082.94 491711.12 470483.5  511644.03\n",
      " 580486.06 469268.22 723477.7  483883.2  498186.9  503009.72 498789.06\n",
      " 446919.3  586888.3  686631.56 368834.6  502076.88 651709.7  556913.94\n",
      " 504738.8  321442.38 458907.75 501194.06 554131.   566490.2  526739.6\n",
      " 502731.06 690108.3  417943.34 435324.   496301.5  485838.4  472795.66\n",
      " 502521.78 454090.7  473048.94 403544.25 496702.75 640362.9  431154.03\n",
      " 653608.06 347819.03 549273.7  350589.25 642344.   359810.56 498276.62\n",
      " 674661.7  734479.7  506709.28 648442.25 417946.3  642816.94 615725.8\n",
      " 509414.94 507887.53 498288.78 497970.97 442076.06 563434.7  498714.3\n",
      " 713411.25 474431.72 529671.44 449095.4  424461.78 670707.06 500676.88\n",
      " 496644.53 503186.44 652005.4  425979.7  508893.12 393528.47 514943.38\n",
      " 490796.3  558344.56 492321.72 556696.7  691530.06 508264.53 438773.84\n",
      " 679385.7  418251.4  513579.38 527178.9  379933.2  497602.75 512639.62\n",
      " 560331.25 470145.03 725057.9  395169.34 676026.   512346.34 493567.4\n",
      " 699718.25 663145.8  475845.72 738359.56 541856.5  467169.88 642780.4\n",
      " 341489.88 437477.6  523405.28 349684.62 524129.6  416492.22 763668.6\n",
      " 296432.34 679205.75 607255.4  549424.75 495658.88 546562.3  712028.8\n",
      " 505601.34 711073.5  538408.6  470466.22 465240.75 411435.16 499850.28\n",
      " 714659.7  452299.62 593602.9  501157.8  548414.3  384990.16 446776.84\n",
      " 687668.3  355776.84 508121.44 709692.2  642974.4  586752.7  498356.38\n",
      " 503669.03 587585.8  664953.8  518077.7  179999.06 249064.75 216410.03\n",
      " 591168.2  270447.84 217681.52 272760.4  584186.06 513299.47 467747.\n",
      " 594507.3  264500.66 284608.3  595885.1  561876.1  687448.5  496845.75\n",
      " 305552.   718317.1  601952.06 494914.12 394890.1  592097.75 329292.7\n",
      " 631541.   227119.03 209863.66 507942.9  499161.34 507489.22 290886.62\n",
      " 377199.25 256902.86 263064.8  326372.84 322399.53 254807.02 511572.7\n",
      " 275492.16 345597.3  491657.16 621088.75 399077.6  186458.84 319722.38\n",
      " 512156.22 350247.44 499034.56 141214.3  190881.61 576314.44 479794.1\n",
      " 521661.22 575173.94 478236.62 560801.9  322227.78 594441.75 497727.\n",
      " 489614.94 197943.22 535308.75 499919.22 343035.66 444511.47 416738.94\n",
      " 496385.94 495499.62 396954.56 548816.   473561.75 292837.38 499722.03\n",
      " 430410.25 620383.1  492021.3  534948.   499568.1  189721.62 433623.6\n",
      " 498669.44 645889.2  402091.78 537675.44 391230.03 451197.22 492255.56\n",
      " 592103.3  226055.77 347595.34 513043.97 498078.78 499599.2  503701.78\n",
      " 701947.9  434100.38 379366.62 305344.6  564166.4  551867.06 544468.3\n",
      " 526669.9  503848.5  574179.44 536814.94 559222.25 497677.44 500312.38\n",
      " 495088.06 510351.06 363110.44 576100.8  322603.47 310604.53 479623.88\n",
      " 508321.06 497231.88 504298.8  608893.06 466783.97 498688.2  427172.2\n",
      " 724159.94 493473.28 409629.44 502818.1  524649.06 469350.22 642399.25\n",
      " 580270.7  372327.03 669922.2  510331.22 608104.2  531374.06 340642.1\n",
      " 567980.5  457292.2  506995.53 498431.8  532735.5  646106.56 444386.44\n",
      " 499493.44 689470.56 502987.94 450632.16 649136.56 575940.25]\n"
     ]
    }
   ],
   "source": [
    "print(mod.predict(x))"
   ]
  },
  {
   "cell_type": "code",
   "execution_count": 225,
   "id": "e5a94173",
   "metadata": {},
   "outputs": [
    {
     "data": {
      "text/html": [
       "<div>\n",
       "<style scoped>\n",
       "    .dataframe tbody tr th:only-of-type {\n",
       "        vertical-align: middle;\n",
       "    }\n",
       "\n",
       "    .dataframe tbody tr th {\n",
       "        vertical-align: top;\n",
       "    }\n",
       "\n",
       "    .dataframe thead th {\n",
       "        text-align: right;\n",
       "    }\n",
       "</style>\n",
       "<table border=\"1\" class=\"dataframe\">\n",
       "  <thead>\n",
       "    <tr style=\"text-align: right;\">\n",
       "      <th></th>\n",
       "      <th>Predictions</th>\n",
       "      <th>Actual Values</th>\n",
       "    </tr>\n",
       "  </thead>\n",
       "  <tbody>\n",
       "    <tr>\n",
       "      <th>0</th>\n",
       "      <td>505247.81250</td>\n",
       "      <td>534399.0</td>\n",
       "    </tr>\n",
       "    <tr>\n",
       "      <th>1</th>\n",
       "      <td>508688.62500</td>\n",
       "      <td>546599.0</td>\n",
       "    </tr>\n",
       "    <tr>\n",
       "      <th>2</th>\n",
       "      <td>565316.81250</td>\n",
       "      <td>555899.0</td>\n",
       "    </tr>\n",
       "    <tr>\n",
       "      <th>3</th>\n",
       "      <td>554702.56250</td>\n",
       "      <td>557199.0</td>\n",
       "    </tr>\n",
       "    <tr>\n",
       "      <th>4</th>\n",
       "      <td>179277.71875</td>\n",
       "      <td>170699.0</td>\n",
       "    </tr>\n",
       "    <tr>\n",
       "      <th>5</th>\n",
       "      <td>615746.18750</td>\n",
       "      <td>625999.0</td>\n",
       "    </tr>\n",
       "    <tr>\n",
       "      <th>6</th>\n",
       "      <td>628873.56250</td>\n",
       "      <td>631199.0</td>\n",
       "    </tr>\n",
       "    <tr>\n",
       "      <th>7</th>\n",
       "      <td>639082.37500</td>\n",
       "      <td>523099.0</td>\n",
       "    </tr>\n",
       "    <tr>\n",
       "      <th>8</th>\n",
       "      <td>290217.31250</td>\n",
       "      <td>256699.0</td>\n",
       "    </tr>\n",
       "    <tr>\n",
       "      <th>9</th>\n",
       "      <td>508320.71875</td>\n",
       "      <td>509899.0</td>\n",
       "    </tr>\n",
       "    <tr>\n",
       "      <th>10</th>\n",
       "      <td>492352.09375</td>\n",
       "      <td>498299.0</td>\n",
       "    </tr>\n",
       "    <tr>\n",
       "      <th>11</th>\n",
       "      <td>496635.62500</td>\n",
       "      <td>491499.0</td>\n",
       "    </tr>\n",
       "    <tr>\n",
       "      <th>12</th>\n",
       "      <td>666270.18750</td>\n",
       "      <td>588899.0</td>\n",
       "    </tr>\n",
       "    <tr>\n",
       "      <th>13</th>\n",
       "      <td>270391.06250</td>\n",
       "      <td>281499.0</td>\n",
       "    </tr>\n",
       "    <tr>\n",
       "      <th>14</th>\n",
       "      <td>404146.65625</td>\n",
       "      <td>401199.0</td>\n",
       "    </tr>\n",
       "    <tr>\n",
       "      <th>15</th>\n",
       "      <td>572504.25000</td>\n",
       "      <td>581999.0</td>\n",
       "    </tr>\n",
       "    <tr>\n",
       "      <th>16</th>\n",
       "      <td>268726.43750</td>\n",
       "      <td>268499.0</td>\n",
       "    </tr>\n",
       "    <tr>\n",
       "      <th>17</th>\n",
       "      <td>500658.96875</td>\n",
       "      <td>498299.0</td>\n",
       "    </tr>\n",
       "    <tr>\n",
       "      <th>18</th>\n",
       "      <td>259172.34375</td>\n",
       "      <td>236999.0</td>\n",
       "    </tr>\n",
       "    <tr>\n",
       "      <th>19</th>\n",
       "      <td>595106.56250</td>\n",
       "      <td>602399.0</td>\n",
       "    </tr>\n",
       "    <tr>\n",
       "      <th>20</th>\n",
       "      <td>491993.37500</td>\n",
       "      <td>498299.0</td>\n",
       "    </tr>\n",
       "    <tr>\n",
       "      <th>21</th>\n",
       "      <td>499692.18750</td>\n",
       "      <td>498299.0</td>\n",
       "    </tr>\n",
       "    <tr>\n",
       "      <th>22</th>\n",
       "      <td>590961.00000</td>\n",
       "      <td>498299.0</td>\n",
       "    </tr>\n",
       "    <tr>\n",
       "      <th>23</th>\n",
       "      <td>302134.28125</td>\n",
       "      <td>291999.0</td>\n",
       "    </tr>\n",
       "    <tr>\n",
       "      <th>24</th>\n",
       "      <td>504404.75000</td>\n",
       "      <td>498299.0</td>\n",
       "    </tr>\n",
       "    <tr>\n",
       "      <th>25</th>\n",
       "      <td>514221.68750</td>\n",
       "      <td>507099.0</td>\n",
       "    </tr>\n",
       "    <tr>\n",
       "      <th>26</th>\n",
       "      <td>604334.18750</td>\n",
       "      <td>603599.0</td>\n",
       "    </tr>\n",
       "    <tr>\n",
       "      <th>27</th>\n",
       "      <td>724937.87500</td>\n",
       "      <td>718899.0</td>\n",
       "    </tr>\n",
       "    <tr>\n",
       "      <th>28</th>\n",
       "      <td>496275.34375</td>\n",
       "      <td>496899.0</td>\n",
       "    </tr>\n",
       "    <tr>\n",
       "      <th>29</th>\n",
       "      <td>742477.87500</td>\n",
       "      <td>756599.0</td>\n",
       "    </tr>\n",
       "  </tbody>\n",
       "</table>\n",
       "</div>"
      ],
      "text/plain": [
       "     Predictions  Actual Values\n",
       "0   505247.81250       534399.0\n",
       "1   508688.62500       546599.0\n",
       "2   565316.81250       555899.0\n",
       "3   554702.56250       557199.0\n",
       "4   179277.71875       170699.0\n",
       "5   615746.18750       625999.0\n",
       "6   628873.56250       631199.0\n",
       "7   639082.37500       523099.0\n",
       "8   290217.31250       256699.0\n",
       "9   508320.71875       509899.0\n",
       "10  492352.09375       498299.0\n",
       "11  496635.62500       491499.0\n",
       "12  666270.18750       588899.0\n",
       "13  270391.06250       281499.0\n",
       "14  404146.65625       401199.0\n",
       "15  572504.25000       581999.0\n",
       "16  268726.43750       268499.0\n",
       "17  500658.96875       498299.0\n",
       "18  259172.34375       236999.0\n",
       "19  595106.56250       602399.0\n",
       "20  491993.37500       498299.0\n",
       "21  499692.18750       498299.0\n",
       "22  590961.00000       498299.0\n",
       "23  302134.28125       291999.0\n",
       "24  504404.75000       498299.0\n",
       "25  514221.68750       507099.0\n",
       "26  604334.18750       603599.0\n",
       "27  724937.87500       718899.0\n",
       "28  496275.34375       496899.0\n",
       "29  742477.87500       756599.0"
      ]
     },
     "execution_count": 225,
     "metadata": {},
     "output_type": "execute_result"
    }
   ],
   "source": [
    "Prediction_accuracy = pd.DataFrame({'Predictions': mod.predict(x), 'Actual Values': y})\n",
    "Prediction_accuracy.head(30)"
   ]
  },
  {
   "cell_type": "markdown",
   "id": "cb897378",
   "metadata": {},
   "source": [
    "## Conclusion\n",
    "- The main component on which the price of a car depends is on cars name, km_driven and the mileage on the car etc.\n",
    "- The price also depends on which city the car was registered, as some cities have different tax rates and restrictions."
   ]
  }
 ],
 "metadata": {
  "kernelspec": {
   "display_name": "Python 3 (ipykernel)",
   "language": "python",
   "name": "python3"
  },
  "language_info": {
   "codemirror_mode": {
    "name": "ipython",
    "version": 3
   },
   "file_extension": ".py",
   "mimetype": "text/x-python",
   "name": "python",
   "nbconvert_exporter": "python",
   "pygments_lexer": "ipython3",
   "version": "3.9.13"
  }
 },
 "nbformat": 4,
 "nbformat_minor": 5
}
