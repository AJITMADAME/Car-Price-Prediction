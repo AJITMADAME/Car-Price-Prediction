{
 "cells": [
  {
   "cell_type": "code",
   "execution_count": 1,
   "id": "107aa139",
   "metadata": {},
   "outputs": [],
   "source": [
    "import warnings\n",
    "warnings.filterwarnings('ignore')\n",
    "import selenium\n",
    "from selenium.common.exceptions import StaleElementReferenceException, NoSuchElementException\n",
    "from selenium.webdriver.common.by import By\n",
    "\n",
    "import selenium\n",
    "from selenium import webdriver\n",
    "import time\n",
    "import pandas as pd"
   ]
  },
  {
   "cell_type": "code",
   "execution_count": 2,
   "id": "d186b7bc",
   "metadata": {},
   "outputs": [],
   "source": [
    "# Let's first connect to the driver\n",
    "driver = webdriver.Chrome(r\"chromedriver.exe\")"
   ]
  },
  {
   "cell_type": "code",
   "execution_count": 3,
   "id": "d3f4f4f2",
   "metadata": {},
   "outputs": [],
   "source": [
    "#opening the cars24 website\n",
    "url = 'https://www.cars24.com/buy-used-car?sort=P&storeCityId=2&pinId=110001'\n",
    "driver.get(url)"
   ]
  },
  {
   "cell_type": "raw",
   "id": "7601cfb7",
   "metadata": {},
   "source": [
    "#opening the cars24 website\n",
    "url = 'https://www.cardekho.com/used-cars'\n",
    "driver.get(url)"
   ]
  },
  {
   "cell_type": "code",
   "execution_count": 41,
   "id": "408a5336",
   "metadata": {},
   "outputs": [],
   "source": [
    "i=0\n",
    "while(i<100):\n",
    "    driver.execute_script(\"window.scrollBy(0,500)\") # scroll down to get more comments\n",
    "    i+=1\n",
    "while(i<5002):\n",
    "    driver.execute_script(\"window.scrollBy(0,5000)\") # scroll down to get more comments\n",
    "    i+=1"
   ]
  },
  {
   "cell_type": "code",
   "execution_count": 4,
   "id": "e603744a",
   "metadata": {},
   "outputs": [],
   "source": [
    "# Scraping name of car\n",
    "name = []\n",
    "title_tags = driver.find_elements(By.XPATH,'//h2[@class=\"_3FpCg\"]')\n",
    "for i in title_tags:\n",
    "    title = i.text\n",
    "    name.append(title)"
   ]
  },
  {
   "cell_type": "code",
   "execution_count": 5,
   "id": "b852cfc1",
   "metadata": {},
   "outputs": [
    {
     "data": {
      "text/plain": [
       "952"
      ]
     },
     "execution_count": 5,
     "metadata": {},
     "output_type": "execute_result"
    }
   ],
   "source": [
    "len(name)"
   ]
  },
  {
   "cell_type": "code",
   "execution_count": 29,
   "id": "5555cffc",
   "metadata": {},
   "outputs": [
    {
     "data": {
      "text/plain": [
       "['2019 Maruti Swift',\n",
       " '2018 Hyundai Grand i10',\n",
       " '2021 Maruti Swift',\n",
       " '2020 Maruti Swift',\n",
       " '2009 Hyundai i10']"
      ]
     },
     "execution_count": 29,
     "metadata": {},
     "output_type": "execute_result"
    }
   ],
   "source": [
    "name[0:5]"
   ]
  },
  {
   "cell_type": "code",
   "execution_count": 7,
   "id": "3d1133f8",
   "metadata": {},
   "outputs": [],
   "source": [
    "# Scraping price from the given page\n",
    "price = []\n",
    "title_tags = driver.find_elements(By.XPATH,'//div[@class=\"_7udZZ\"]')\n",
    "for i in title_tags:\n",
    "    title = i.text.replace('₹','')\n",
    "    price.append(title)"
   ]
  },
  {
   "cell_type": "code",
   "execution_count": 8,
   "id": "5576aa57",
   "metadata": {},
   "outputs": [
    {
     "data": {
      "text/plain": [
       "952"
      ]
     },
     "execution_count": 8,
     "metadata": {},
     "output_type": "execute_result"
    }
   ],
   "source": [
    "len(price)"
   ]
  },
  {
   "cell_type": "code",
   "execution_count": 25,
   "id": "79917e1d",
   "metadata": {},
   "outputs": [],
   "source": [
    "k = []\n",
    "title_tags = driver.find_elements(By.XPATH,'//ul[@class=\"bVR0c\"]/li[1]')\n",
    "for i in title_tags:\n",
    "    title = i.text.replace('km','')\n",
    "    k.append(title)"
   ]
  },
  {
   "cell_type": "code",
   "execution_count": 27,
   "id": "ba88f765",
   "metadata": {},
   "outputs": [
    {
     "data": {
      "text/plain": [
       "952"
      ]
     },
     "execution_count": 27,
     "metadata": {},
     "output_type": "execute_result"
    }
   ],
   "source": [
    "len(k)"
   ]
  },
  {
   "cell_type": "code",
   "execution_count": 30,
   "id": "9d87651b",
   "metadata": {},
   "outputs": [
    {
     "data": {
      "text/plain": [
       "['11,404 ', '6,875 ', '13,174 ', '16,633 ', '45,140 ']"
      ]
     },
     "execution_count": 30,
     "metadata": {},
     "output_type": "execute_result"
    }
   ],
   "source": [
    "k[0:5]"
   ]
  },
  {
   "cell_type": "code",
   "execution_count": 15,
   "id": "bbf570d8",
   "metadata": {},
   "outputs": [],
   "source": [
    "fuel = []\n",
    "title_tags = driver.find_elements(By.XPATH,'//ul[@class=\"bVR0c\"]/li[3]')\n",
    "for i in title_tags:\n",
    "    title = i.text\n",
    "    fuel.append(title)"
   ]
  },
  {
   "cell_type": "code",
   "execution_count": 16,
   "id": "feca1dcf",
   "metadata": {},
   "outputs": [
    {
     "data": {
      "text/plain": [
       "952"
      ]
     },
     "execution_count": 16,
     "metadata": {},
     "output_type": "execute_result"
    }
   ],
   "source": [
    "len(fuel)"
   ]
  },
  {
   "cell_type": "code",
   "execution_count": 31,
   "id": "e636c6e7",
   "metadata": {},
   "outputs": [
    {
     "data": {
      "text/plain": [
       "['Petrol', 'Petrol', 'Petrol', 'Petrol', 'Petrol']"
      ]
     },
     "execution_count": 31,
     "metadata": {},
     "output_type": "execute_result"
    }
   ],
   "source": [
    "fuel[0:5]"
   ]
  },
  {
   "cell_type": "code",
   "execution_count": 18,
   "id": "ae0d4788",
   "metadata": {},
   "outputs": [],
   "source": [
    "transmission = []\n",
    "title_tags = driver.find_elements(By.XPATH,'//p[@class=\"cvakB\"]/span')\n",
    "for i in title_tags:\n",
    "    title = i.text\n",
    "    transmission.append(title)"
   ]
  },
  {
   "cell_type": "code",
   "execution_count": 19,
   "id": "21b56845",
   "metadata": {},
   "outputs": [
    {
     "data": {
      "text/plain": [
       "952"
      ]
     },
     "execution_count": 19,
     "metadata": {},
     "output_type": "execute_result"
    }
   ],
   "source": [
    "len(transmission)"
   ]
  },
  {
   "cell_type": "code",
   "execution_count": 32,
   "id": "0d8d10cb",
   "metadata": {},
   "outputs": [
    {
     "data": {
      "text/plain": [
       "['Manual', 'Manual', 'Manual', 'Manual', 'Manual']"
      ]
     },
     "execution_count": 32,
     "metadata": {},
     "output_type": "execute_result"
    }
   ],
   "source": [
    "transmission[0:5]"
   ]
  },
  {
   "cell_type": "code",
   "execution_count": 22,
   "id": "c3609ae0",
   "metadata": {},
   "outputs": [],
   "source": [
    "owner = []\n",
    "title_tags = driver.find_elements(By.XPATH,\"//ul[@class='bVR0c']/li[2]\")\n",
    "for i in title_tags:\n",
    "    title = i.text\n",
    "    owner.append(title)"
   ]
  },
  {
   "cell_type": "code",
   "execution_count": 23,
   "id": "e6224c4a",
   "metadata": {},
   "outputs": [
    {
     "data": {
      "text/plain": [
       "952"
      ]
     },
     "execution_count": 23,
     "metadata": {},
     "output_type": "execute_result"
    }
   ],
   "source": [
    "len(owner)"
   ]
  },
  {
   "cell_type": "code",
   "execution_count": 33,
   "id": "a31f87e3",
   "metadata": {},
   "outputs": [
    {
     "data": {
      "text/plain": [
       "['2nd Owner', '2nd Owner', '1st Owner', '2nd Owner', '1st Owner']"
      ]
     },
     "execution_count": 33,
     "metadata": {},
     "output_type": "execute_result"
    }
   ],
   "source": [
    "owner[0:5]"
   ]
  },
  {
   "cell_type": "code",
   "execution_count": 34,
   "id": "3640fca6",
   "metadata": {},
   "outputs": [],
   "source": [
    "#Creating a dataframe and checking the data extracted\n",
    "cars24 = pd.DataFrame({'name':name,'selling_price':price,'km_driven':k,'fuel':fuel,'transmission':transmission,'owner':owner})"
   ]
  },
  {
   "cell_type": "code",
   "execution_count": 36,
   "id": "5193eba7",
   "metadata": {},
   "outputs": [
    {
     "data": {
      "text/html": [
       "<div>\n",
       "<style scoped>\n",
       "    .dataframe tbody tr th:only-of-type {\n",
       "        vertical-align: middle;\n",
       "    }\n",
       "\n",
       "    .dataframe tbody tr th {\n",
       "        vertical-align: top;\n",
       "    }\n",
       "\n",
       "    .dataframe thead th {\n",
       "        text-align: right;\n",
       "    }\n",
       "</style>\n",
       "<table border=\"1\" class=\"dataframe\">\n",
       "  <thead>\n",
       "    <tr style=\"text-align: right;\">\n",
       "      <th></th>\n",
       "      <th>name</th>\n",
       "      <th>selling_price</th>\n",
       "      <th>km_driven</th>\n",
       "      <th>fuel</th>\n",
       "      <th>transmission</th>\n",
       "      <th>owner</th>\n",
       "    </tr>\n",
       "  </thead>\n",
       "  <tbody>\n",
       "    <tr>\n",
       "      <th>0</th>\n",
       "      <td>2019 Maruti Swift</td>\n",
       "      <td>5,34,399</td>\n",
       "      <td>11,404</td>\n",
       "      <td>Petrol</td>\n",
       "      <td>Manual</td>\n",
       "      <td>2nd Owner</td>\n",
       "    </tr>\n",
       "    <tr>\n",
       "      <th>1</th>\n",
       "      <td>2018 Hyundai Grand i10</td>\n",
       "      <td>5,46,599</td>\n",
       "      <td>6,875</td>\n",
       "      <td>Petrol</td>\n",
       "      <td>Manual</td>\n",
       "      <td>2nd Owner</td>\n",
       "    </tr>\n",
       "    <tr>\n",
       "      <th>2</th>\n",
       "      <td>2021 Maruti Swift</td>\n",
       "      <td>5,55,899</td>\n",
       "      <td>13,174</td>\n",
       "      <td>Petrol</td>\n",
       "      <td>Manual</td>\n",
       "      <td>1st Owner</td>\n",
       "    </tr>\n",
       "    <tr>\n",
       "      <th>3</th>\n",
       "      <td>2020 Maruti Swift</td>\n",
       "      <td>5,57,199</td>\n",
       "      <td>16,633</td>\n",
       "      <td>Petrol</td>\n",
       "      <td>Manual</td>\n",
       "      <td>2nd Owner</td>\n",
       "    </tr>\n",
       "    <tr>\n",
       "      <th>4</th>\n",
       "      <td>2009 Hyundai i10</td>\n",
       "      <td>1,70,699</td>\n",
       "      <td>45,140</td>\n",
       "      <td>Petrol</td>\n",
       "      <td>Manual</td>\n",
       "      <td>1st Owner</td>\n",
       "    </tr>\n",
       "  </tbody>\n",
       "</table>\n",
       "</div>"
      ],
      "text/plain": [
       "                     name selling_price km_driven    fuel transmission  \\\n",
       "0       2019 Maruti Swift      5,34,399   11,404   Petrol       Manual   \n",
       "1  2018 Hyundai Grand i10      5,46,599    6,875   Petrol       Manual   \n",
       "2       2021 Maruti Swift      5,55,899   13,174   Petrol       Manual   \n",
       "3       2020 Maruti Swift      5,57,199   16,633   Petrol       Manual   \n",
       "4        2009 Hyundai i10      1,70,699   45,140   Petrol       Manual   \n",
       "\n",
       "       owner  \n",
       "0  2nd Owner  \n",
       "1  2nd Owner  \n",
       "2  1st Owner  \n",
       "3  2nd Owner  \n",
       "4  1st Owner  "
      ]
     },
     "execution_count": 36,
     "metadata": {},
     "output_type": "execute_result"
    }
   ],
   "source": [
    "cars24.head()"
   ]
  },
  {
   "cell_type": "code",
   "execution_count": 37,
   "id": "c92e3934",
   "metadata": {},
   "outputs": [],
   "source": [
    "#Saving in a csv file\n",
    "cars24.to_csv('cars24data.csv')"
   ]
  },
  {
   "cell_type": "code",
   "execution_count": 38,
   "id": "322b3519",
   "metadata": {},
   "outputs": [],
   "source": [
    "data = pd.read_csv('cars24data.csv')"
   ]
  },
  {
   "cell_type": "code",
   "execution_count": 40,
   "id": "863ad7c5",
   "metadata": {},
   "outputs": [
    {
     "data": {
      "text/html": [
       "<div>\n",
       "<style scoped>\n",
       "    .dataframe tbody tr th:only-of-type {\n",
       "        vertical-align: middle;\n",
       "    }\n",
       "\n",
       "    .dataframe tbody tr th {\n",
       "        vertical-align: top;\n",
       "    }\n",
       "\n",
       "    .dataframe thead th {\n",
       "        text-align: right;\n",
       "    }\n",
       "</style>\n",
       "<table border=\"1\" class=\"dataframe\">\n",
       "  <thead>\n",
       "    <tr style=\"text-align: right;\">\n",
       "      <th></th>\n",
       "      <th>Unnamed: 0</th>\n",
       "      <th>name</th>\n",
       "      <th>selling_price</th>\n",
       "      <th>km_driven</th>\n",
       "      <th>fuel</th>\n",
       "      <th>transmission</th>\n",
       "      <th>owner</th>\n",
       "    </tr>\n",
       "  </thead>\n",
       "  <tbody>\n",
       "    <tr>\n",
       "      <th>0</th>\n",
       "      <td>0</td>\n",
       "      <td>2019 Maruti Swift</td>\n",
       "      <td>5,34,399</td>\n",
       "      <td>11,404</td>\n",
       "      <td>Petrol</td>\n",
       "      <td>Manual</td>\n",
       "      <td>2nd Owner</td>\n",
       "    </tr>\n",
       "    <tr>\n",
       "      <th>1</th>\n",
       "      <td>1</td>\n",
       "      <td>2018 Hyundai Grand i10</td>\n",
       "      <td>5,46,599</td>\n",
       "      <td>6,875</td>\n",
       "      <td>Petrol</td>\n",
       "      <td>Manual</td>\n",
       "      <td>2nd Owner</td>\n",
       "    </tr>\n",
       "    <tr>\n",
       "      <th>2</th>\n",
       "      <td>2</td>\n",
       "      <td>2021 Maruti Swift</td>\n",
       "      <td>5,55,899</td>\n",
       "      <td>13,174</td>\n",
       "      <td>Petrol</td>\n",
       "      <td>Manual</td>\n",
       "      <td>1st Owner</td>\n",
       "    </tr>\n",
       "    <tr>\n",
       "      <th>3</th>\n",
       "      <td>3</td>\n",
       "      <td>2020 Maruti Swift</td>\n",
       "      <td>5,57,199</td>\n",
       "      <td>16,633</td>\n",
       "      <td>Petrol</td>\n",
       "      <td>Manual</td>\n",
       "      <td>2nd Owner</td>\n",
       "    </tr>\n",
       "    <tr>\n",
       "      <th>4</th>\n",
       "      <td>4</td>\n",
       "      <td>2009 Hyundai i10</td>\n",
       "      <td>1,70,699</td>\n",
       "      <td>45,140</td>\n",
       "      <td>Petrol</td>\n",
       "      <td>Manual</td>\n",
       "      <td>1st Owner</td>\n",
       "    </tr>\n",
       "  </tbody>\n",
       "</table>\n",
       "</div>"
      ],
      "text/plain": [
       "   Unnamed: 0                    name selling_price km_driven    fuel  \\\n",
       "0           0       2019 Maruti Swift      5,34,399   11,404   Petrol   \n",
       "1           1  2018 Hyundai Grand i10      5,46,599    6,875   Petrol   \n",
       "2           2       2021 Maruti Swift      5,55,899   13,174   Petrol   \n",
       "3           3       2020 Maruti Swift      5,57,199   16,633   Petrol   \n",
       "4           4        2009 Hyundai i10      1,70,699   45,140   Petrol   \n",
       "\n",
       "  transmission      owner  \n",
       "0       Manual  2nd Owner  \n",
       "1       Manual  2nd Owner  \n",
       "2       Manual  1st Owner  \n",
       "3       Manual  2nd Owner  \n",
       "4       Manual  1st Owner  "
      ]
     },
     "execution_count": 40,
     "metadata": {},
     "output_type": "execute_result"
    }
   ],
   "source": [
    "data.head()"
   ]
  },
  {
   "cell_type": "code",
   "execution_count": null,
   "id": "24ec0044",
   "metadata": {},
   "outputs": [],
   "source": []
  }
 ],
 "metadata": {
  "kernelspec": {
   "display_name": "Python 3 (ipykernel)",
   "language": "python",
   "name": "python3"
  },
  "language_info": {
   "codemirror_mode": {
    "name": "ipython",
    "version": 3
   },
   "file_extension": ".py",
   "mimetype": "text/x-python",
   "name": "python",
   "nbconvert_exporter": "python",
   "pygments_lexer": "ipython3",
   "version": "3.9.13"
  }
 },
 "nbformat": 4,
 "nbformat_minor": 5
}
